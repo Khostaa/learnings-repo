{
 "cells": [
  {
   "cell_type": "code",
   "execution_count": 4,
   "id": "10fc2ca6",
   "metadata": {},
   "outputs": [],
   "source": [
    "import requests\n",
    "from bs4 import BeautifulSoup\n",
    "import csv"
   ]
  },
  {
   "cell_type": "code",
   "execution_count": 7,
   "id": "aad29479",
   "metadata": {},
   "outputs": [
    {
     "name": "stdout",
     "output_type": "stream",
     "text": [
      "Successfully retrieved page 1\n",
      "Successfully retrieved page 2\n",
      "Successfully retrieved page 3\n",
      "Successfully retrieved page 4\n",
      "Successfully retrieved page 5\n",
      "Successfully retrieved page 6\n",
      "Successfully retrieved page 7\n",
      "Successfully retrieved page 8\n",
      "Successfully retrieved page 9\n",
      "Successfully retrieved page 10\n",
      "Successfully retrieved page 11\n",
      "Successfully retrieved page 12\n",
      "Successfully retrieved page 13\n",
      "Successfully retrieved page 14\n",
      "Successfully retrieved page 15\n",
      "Successfully retrieved page 16\n",
      "Successfully retrieved page 17\n",
      "Successfully retrieved page 18\n",
      "Successfully retrieved page 19\n",
      "Successfully retrieved page 20\n"
     ]
    }
   ],
   "source": [
    "with open('books_a.csv', 'w', newline='', encoding = 'utf-8') as csvfile:\n",
    "    writer = csv.writer(csvfile)\n",
    "    writer.writerow(['Title', 'Rating'])\n",
    "    for i in range(1, 21):\n",
    "        url = f'https://books.toscrape.com/catalogue/category/books_1/page-{i}.html'  # Replace with the actual URL\n",
    "        response = requests.get(url)\n",
    "        if response.status_code != 200:\n",
    "            print(f\"Failed to retrieve page {i}\")\n",
    "            continue\n",
    "        else:\n",
    "            print(f\"Successfully retrieved page {i}\")\n",
    "        soup = BeautifulSoup(response.text, 'html.parser')\n",
    "        books = soup.find_all('article', class_='product_pod')\n",
    "        for book in books:\n",
    "            title = book.h3.a['title']\n",
    "            rating = book.p['class'][1]\n",
    "            writer.writerow([title, rating])\n",
    "        "
   ]
  }
 ],
 "metadata": {
  "kernelspec": {
   "display_name": "Python 3",
   "language": "python",
   "name": "python3"
  },
  "language_info": {
   "codemirror_mode": {
    "name": "ipython",
    "version": 3
   },
   "file_extension": ".py",
   "mimetype": "text/x-python",
   "name": "python",
   "nbconvert_exporter": "python",
   "pygments_lexer": "ipython3",
   "version": "3.12.6"
  }
 },
 "nbformat": 4,
 "nbformat_minor": 5
}
