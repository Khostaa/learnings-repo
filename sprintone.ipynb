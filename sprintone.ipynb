{
 "cells": [
  {
   "cell_type": "code",
   "execution_count": 1,
   "metadata": {},
   "outputs": [
    {
     "name": "stdout",
     "output_type": "stream",
     "text": [
      "5 is a odd number.\n"
     ]
    }
   ],
   "source": [
    "# 1. Write a program to check whether a number is odd or even.\n",
    "x = int(input(\"Enter a number: \"))\n",
    "if x >= 0:\n",
    "    if x % 2 == 0:\n",
    "        print(f\"{x} is a even number.\")\n",
    "    else:\n",
    "        print(f\"{x} is a odd number.\")\n",
    "else:\n",
    "    print(\"Invalid input\")"
   ]
  },
  {
   "cell_type": "code",
   "execution_count": 3,
   "metadata": {},
   "outputs": [
    {
     "name": "stdout",
     "output_type": "stream",
     "text": [
      "21 is not a prime number.\n"
     ]
    }
   ],
   "source": [
    "#  2. Write a program to determine if a number is prime.\n",
    "x = int(input(\"Enter a number: \"))\n",
    "if x >= 0:\n",
    "    if x == 0 or x == 1:\n",
    "        print (f'{x} is not a prime number.')\n",
    "    if x > 1:\n",
    "        count = 0\n",
    "        for i in range (2, int(x/2)):\n",
    "            if x % i == 0:\n",
    "                count  += 1\n",
    "                break;\n",
    "        if count == 0:\n",
    "            print(f'{x} is a prime number.')\n",
    "        else:\n",
    "            print(f'{x} is not a prime number.')\n",
    "else:\n",
    "    print(\"Please enter a non-negative integer.\")"
   ]
  },
  {
   "cell_type": "code",
   "execution_count": 7,
   "metadata": {},
   "outputs": [
    {
     "name": "stdout",
     "output_type": "stream",
     "text": [
      "1987, is not a Leap year.\n"
     ]
    }
   ],
   "source": [
    "# 3. Write a program to check if a given year is a leap year.\n",
    "x = int(input(\"Enter a year: \"))\n",
    "if (x % 4 == 0 and x % 100 != 0) or (x % 400 == 0):\n",
    "    print(f'{x}, is a Leap year.')\n",
    "else:\n",
    "    print(f'{x}, is not a Leap year.')"
   ]
  },
  {
   "cell_type": "code",
   "execution_count": 11,
   "metadata": {},
   "outputs": [
    {
     "name": "stdout",
     "output_type": "stream",
     "text": [
      "153, is an armstrong number.\n"
     ]
    }
   ],
   "source": [
    "# 4. Write a program to check if a number is an Armstrong number.\n",
    "x = int(input(\"Enter a number: \"))\n",
    "count = 0\n",
    "temp  = x\n",
    "\n",
    "# counting the no. of digits in input\n",
    "n = x\n",
    "while (n > 0):\n",
    "    count = count + 1\n",
    "    n =  n // 10\n",
    "\n",
    "# Calculating the Sum\n",
    "sum = 0\n",
    "while x > 0:\n",
    "    sum = sum + (x % 10) ** count\n",
    "    x  = x // 10\n",
    "\n",
    "# Displaying Result    \n",
    "if temp == sum:\n",
    "    print(f\"{temp}, is an armstrong number.\")\n",
    "else:\n",
    "    print(f\"{temp}, is not an armstrong number.\")\n"
   ]
  },
  {
   "cell_type": "code",
   "execution_count": 6,
   "metadata": {},
   "outputs": [
    {
     "name": "stdout",
     "output_type": "stream",
     "text": [
      "[0, 1, 1, 2, 3, 5, 8]\n"
     ]
    }
   ],
   "source": [
    "# 5. Write a program to generate the Fibonacci series up to a given number.\n",
    "'''\n",
    "Example:\n",
    "Input: limit = 10\n",
    "Output: [0, 1, 1, 2, 3, 5, 8]\n",
    "Explanation: The Fibonacci series up to 10 is generated as [0, 1, 1, 2, 3, 5, 8].\n",
    "'''\n",
    "x = int(input(\"Enter the limit: \"))\n",
    "sum = 0\n",
    "fib = [0, 1]\n",
    "while True:\n",
    "    sum = fib[-1] + fib[-2]\n",
    "    if sum < x:\n",
    "        fib.append(sum)\n",
    "    else:\n",
    "        break\n",
    "print(fib)"
   ]
  },
  {
   "cell_type": "code",
   "execution_count": 6,
   "metadata": {},
   "outputs": [
    {
     "name": "stdout",
     "output_type": "stream",
     "text": [
      "powop is a palindrome.\n"
     ]
    }
   ],
   "source": [
    "'''\n",
    "6. Write a program to check if a string or number is a palindrome.\n",
    "Example:\n",
    "Input: string = \"radar\"\n",
    "Output: Palindrome\n",
    "Explanation: \"radar\" reads the same backward as forward.\n",
    "'''\n",
    "x = input(\"Enter a string: \")\n",
    "\n",
    "def isPalindrome(x):\n",
    "    return x == x[::-1]\n",
    "    # [::-1] - Start at the end (- does that), end when nothing's left and walk backwards by 1\n",
    "\n",
    "palindrome  = isPalindrome(x)\n",
    "\n",
    "if palindrome:\n",
    "    print (f\"{x} is a palindrome.\")\n",
    "else:\n",
    "    print (f\"{x} is not a palindrome\")\n"
   ]
  },
  {
   "cell_type": "code",
   "execution_count": 23,
   "metadata": {},
   "outputs": [
    {
     "name": "stdout",
     "output_type": "stream",
     "text": [
      "              * \n",
      "\n",
      "            * * * \n",
      "\n",
      "          * * * * * \n",
      "\n",
      "        * * * * * * * \n",
      "\n",
      "          * * * * * \n",
      "\n",
      "            * * * \n",
      "\n",
      "              * \n",
      "\n"
     ]
    }
   ],
   "source": [
    "'''\n",
    "7. Write a program to create different star patterns (e.g., pyramid, diamond).\n",
    "Example:\n",
    "Input: patternType = \"pyramid\", height = 5\n",
    "Output:\n",
    "\n",
    "    *\n",
    "   ***\n",
    "  *****\n",
    " *******\n",
    "*********\n",
    "'''\n",
    "import math\n",
    "patternType = int(input(\"Enter Pattern Type- 1 for pyramid, 2 for diamond \"))\n",
    "height =  int(input('Enter height: '))\n",
    "if patternType == 1: # Pyramid\n",
    "    for i in range (height):\n",
    "        for j in range(i, height):\n",
    "            print(\" \", end=\" \")\n",
    "        for j in range(0, 2*i+1):\n",
    "            print(\"*\", end=\" \")\n",
    "        print(\"\\n\")\n",
    "if patternType == 2: # Diamond\n",
    "        # iterate for upper pyramid\n",
    "        for i in range (math.floor(height/2)):\n",
    "            for j in range(i, height):\n",
    "                print(\" \", end=\" \")\n",
    "            for j in range(0, 2*i+1):\n",
    "                print(\"*\", end=\" \")\n",
    "            print(\"\\n\")\n",
    "        # interate for lower pyramid\n",
    "        for i in range (math.floor(height/2), -1, -1):\n",
    "            for j in range(i,  height):\n",
    "                print(\" \", end=\" \")\n",
    "            for j in range(0, 2*i+1):\n",
    "                print(\"*\", end=\" \")\n",
    "            print(\"\\n\")"
   ]
  },
  {
   "cell_type": "code",
   "execution_count": 9,
   "metadata": {},
   "outputs": [
    {
     "name": "stdout",
     "output_type": "stream",
     "text": [
      "Factorial of 7: 5040.\n"
     ]
    }
   ],
   "source": [
    "'''\n",
    "8. Write a program to compute the factorial of a given number.\n",
    "Example:\n",
    "Input: number = 5\n",
    "Output: 120\n",
    "Explanation: 5! (factorial) is 5 × 4 × 3 × 2 × 1 = 120.\n",
    "'''\n",
    "def factorial(n):\n",
    "    fact = 1\n",
    "    for i in range(2, n+1):\n",
    "        fact = fact * i\n",
    "    return fact\n",
    "\n",
    "n = int(input(\"Enter the number: \"))\n",
    "print(f\"Factorial of {n}: {factorial(n)}.\")\n",
    "\n"
   ]
  },
  {
   "cell_type": "code",
   "execution_count": 3,
   "metadata": {},
   "outputs": [
    {
     "name": "stdout",
     "output_type": "stream",
     "text": [
      "Sum of Digits of 456789: 39\n"
     ]
    }
   ],
   "source": [
    "'''9. Write a program to calculate the sum of digits of a number.\n",
    "Example:\n",
    "Input: number = 1234\n",
    "Output: 10\n",
    "Explanation: The sum of the digits 1 + 2 + 3 + 4 = 10.'''\n",
    "\n",
    "x = int(input(\"Enter a number: \"))\n",
    "def sum_digits(x):\n",
    "    sum = 0\n",
    "    while x > 0:\n",
    "        y  = x % 10\n",
    "        sum = sum + y\n",
    "        x = x // 10\n",
    "    return sum\n",
    "print(f\"Sum of Digits of {x}: {sum_digits(x)}\")\n"
   ]
  }
 ],
 "metadata": {
  "kernelspec": {
   "display_name": "Python 3",
   "language": "python",
   "name": "python3"
  },
  "language_info": {
   "codemirror_mode": {
    "name": "ipython",
    "version": 3
   },
   "file_extension": ".py",
   "mimetype": "text/x-python",
   "name": "python",
   "nbconvert_exporter": "python",
   "pygments_lexer": "ipython3",
   "version": "3.12.6"
  }
 },
 "nbformat": 4,
 "nbformat_minor": 2
}
