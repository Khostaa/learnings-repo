{
 "cells": [
  {
   "cell_type": "code",
   "execution_count": 1,
   "metadata": {},
   "outputs": [
    {
     "name": "stdout",
     "output_type": "stream",
     "text": [
      "5 is a odd number.\n"
     ]
    }
   ],
   "source": [
    "# 1. Write a program to check whether a number is odd or even.\n",
    "x = int(input(\"Enter a number: \"))\n",
    "if x >= 0:\n",
    "    if x % 2 == 0:\n",
    "        print(f\"{x} is a even number.\")\n",
    "    else:\n",
    "        print(f\"{x} is a odd number.\")\n",
    "else:\n",
    "    print(\"Invalid input\")"
   ]
  },
  {
   "cell_type": "code",
   "execution_count": 29,
   "metadata": {},
   "outputs": [
    {
     "name": "stdout",
     "output_type": "stream",
     "text": [
      "2 is a prime number.\n"
     ]
    }
   ],
   "source": [
    "#  2. Write a program to determine if a number is prime.\n",
    "x = int(input(\"Enter a number: \"))\n",
    "if x >= 0:\n",
    "    if x == 0 or x == 1:\n",
    "        print (f'{x} is not a prime number.')\n",
    "    if x > 1:\n",
    "        count = 0\n",
    "        for i in range (2, int(x/2)+1):\n",
    "            if x % i == 0:\n",
    "                count  += 1\n",
    "                break\n",
    "        if count == 0:\n",
    "            print(f'{x} is a prime number.')\n",
    "        else:\n",
    "            print(f'{x} is not a prime number.')\n",
    "else:\n",
    "    print(\"Please enter a non-negative integer.\")"
   ]
  },
  {
   "cell_type": "code",
   "execution_count": 7,
   "metadata": {},
   "outputs": [
    {
     "name": "stdout",
     "output_type": "stream",
     "text": [
      "1987, is not a Leap year.\n"
     ]
    }
   ],
   "source": [
    "# 3. Write a program to check if a given year is a leap year.\n",
    "x = int(input(\"Enter a year: \"))\n",
    "if (x % 4 == 0 and x % 100 != 0) or (x % 400 == 0):\n",
    "    print(f'{x}, is a Leap year.')\n",
    "else:\n",
    "    print(f'{x}, is not a Leap year.')"
   ]
  },
  {
   "cell_type": "code",
   "execution_count": 11,
   "metadata": {},
   "outputs": [
    {
     "name": "stdout",
     "output_type": "stream",
     "text": [
      "153, is an armstrong number.\n"
     ]
    }
   ],
   "source": [
    "# 4. Write a program to check if a number is an Armstrong number.\n",
    "x = int(input(\"Enter a number: \"))\n",
    "count = 0\n",
    "temp  = x\n",
    "\n",
    "# counting the no. of digits in input\n",
    "n = x\n",
    "while (n > 0):\n",
    "    count = count + 1\n",
    "    n =  n // 10\n",
    "\n",
    "# Calculating the Sum\n",
    "sum = 0\n",
    "while x > 0:\n",
    "    sum = sum + (x % 10) ** count\n",
    "    x  = x // 10\n",
    "\n",
    "# Displaying Result    \n",
    "if temp == sum:\n",
    "    print(f\"{temp}, is an armstrong number.\")\n",
    "else:\n",
    "    print(f\"{temp}, is not an armstrong number.\")\n"
   ]
  },
  {
   "cell_type": "code",
   "execution_count": 6,
   "metadata": {},
   "outputs": [
    {
     "name": "stdout",
     "output_type": "stream",
     "text": [
      "[0, 1, 1, 2, 3, 5, 8]\n"
     ]
    }
   ],
   "source": [
    "# 5. Write a program to generate the Fibonacci series up to a given number.\n",
    "'''\n",
    "Example:\n",
    "Input: limit = 10\n",
    "Output: [0, 1, 1, 2, 3, 5, 8]\n",
    "Explanation: The Fibonacci series up to 10 is generated as [0, 1, 1, 2, 3, 5, 8].\n",
    "'''\n",
    "x = int(input(\"Enter the limit: \"))\n",
    "sum = 0\n",
    "fib = [0, 1]\n",
    "while True:\n",
    "    sum = fib[-1] + fib[-2]\n",
    "    if sum < x:\n",
    "        fib.append(sum)\n",
    "    else:\n",
    "        break\n",
    "print(fib)"
   ]
  },
  {
   "cell_type": "code",
   "execution_count": 6,
   "metadata": {},
   "outputs": [
    {
     "name": "stdout",
     "output_type": "stream",
     "text": [
      "powop is a palindrome.\n"
     ]
    }
   ],
   "source": [
    "'''\n",
    "6. Write a program to check if a string or number is a palindrome.\n",
    "Example:\n",
    "Input: string = \"radar\"\n",
    "Output: Palindrome\n",
    "Explanation: \"radar\" reads the same backward as forward.\n",
    "'''\n",
    "x = input(\"Enter a string: \")\n",
    "\n",
    "def isPalindrome(x):\n",
    "    return x == x[::-1]\n",
    "    # [::-1] - Start at the end (- does that), end when nothing's left and walk backwards by 1\n",
    "\n",
    "palindrome  = isPalindrome(x)\n",
    "\n",
    "if palindrome:\n",
    "    print (f\"{x} is a palindrome.\")\n",
    "else:\n",
    "    print (f\"{x} is not a palindrome\")\n"
   ]
  },
  {
   "cell_type": "code",
   "execution_count": 23,
   "metadata": {},
   "outputs": [
    {
     "name": "stdout",
     "output_type": "stream",
     "text": [
      "              * \n",
      "\n",
      "            * * * \n",
      "\n",
      "          * * * * * \n",
      "\n",
      "        * * * * * * * \n",
      "\n",
      "          * * * * * \n",
      "\n",
      "            * * * \n",
      "\n",
      "              * \n",
      "\n"
     ]
    }
   ],
   "source": [
    "'''\n",
    "7. Write a program to create different star patterns (e.g., pyramid, diamond).\n",
    "Example:\n",
    "Input: patternType = \"pyramid\", height = 5\n",
    "Output:\n",
    "\n",
    "    *\n",
    "   ***\n",
    "  *****\n",
    " *******\n",
    "*********\n",
    "'''\n",
    "import math\n",
    "patternType = int(input(\"Enter Pattern Type- 1 for pyramid, 2 for diamond \"))\n",
    "height =  int(input('Enter height: '))\n",
    "if patternType == 1: # Pyramid\n",
    "    for i in range (height):\n",
    "        for j in range(i, height):\n",
    "            print(\" \", end=\" \")\n",
    "        for j in range(0, 2*i+1):\n",
    "            print(\"*\", end=\" \")\n",
    "        print(\"\\n\")\n",
    "if patternType == 2: # Diamond\n",
    "        # iterate for upper pyramid\n",
    "        for i in range (math.floor(height/2)):\n",
    "            for j in range(i, height):\n",
    "                print(\" \", end=\" \")\n",
    "            for j in range(0, 2*i+1):\n",
    "                print(\"*\", end=\" \")\n",
    "            print(\"\\n\")\n",
    "        # interate for lower pyramid\n",
    "        for i in range (math.floor(height/2), -1, -1):\n",
    "            for j in range(i,  height):\n",
    "                print(\" \", end=\" \")\n",
    "            for j in range(0, 2*i+1):\n",
    "                print(\"*\", end=\" \")\n",
    "            print(\"\\n\")"
   ]
  },
  {
   "cell_type": "code",
   "execution_count": 9,
   "metadata": {},
   "outputs": [
    {
     "name": "stdout",
     "output_type": "stream",
     "text": [
      "Factorial of 7: 5040.\n"
     ]
    }
   ],
   "source": [
    "'''\n",
    "8. Write a program to compute the factorial of a given number.\n",
    "Example:\n",
    "Input: number = 5\n",
    "Output: 120\n",
    "Explanation: 5! (factorial) is 5 × 4 × 3 × 2 × 1 = 120.\n",
    "'''\n",
    "def factorial(n):\n",
    "    fact = 1\n",
    "    for i in range(2, n+1):\n",
    "        fact = fact * i\n",
    "    return fact\n",
    "\n",
    "n = int(input(\"Enter the number: \"))\n",
    "print(f\"Factorial of {n}: {factorial(n)}.\")\n",
    "\n"
   ]
  },
  {
   "cell_type": "code",
   "execution_count": 3,
   "metadata": {},
   "outputs": [
    {
     "name": "stdout",
     "output_type": "stream",
     "text": [
      "Sum of Digits of 456789: 39\n"
     ]
    }
   ],
   "source": [
    "'''9. Write a program to calculate the sum of digits of a number.\n",
    "Example:\n",
    "Input: number = 1234\n",
    "Output: 10\n",
    "Explanation: The sum of the digits 1 + 2 + 3 + 4 = 10.'''\n",
    "\n",
    "x = int(input(\"Enter a number: \"))\n",
    "def sum_digits(x):\n",
    "    sum = 0\n",
    "    while x > 0:\n",
    "        y  = x % 10\n",
    "        sum = sum + y\n",
    "        x = x // 10\n",
    "    return sum\n",
    "print(f\"Sum of Digits of {x}: {sum_digits(x)}\")\n"
   ]
  },
  {
   "cell_type": "code",
   "execution_count": 8,
   "metadata": {},
   "outputs": [
    {
     "name": "stdout",
     "output_type": "stream",
     "text": [
      "Enter the two numbers to find GCD of\n",
      "GCD of 14 and 21 is 7\n"
     ]
    }
   ],
   "source": [
    "'''10. Write a program to find the GCD of two numbers.\n",
    "Example:\n",
    "Input: a = 48, b = 18\n",
    "Output: 6\n",
    "Explanation: The GCD of 48 and 18 is 6.'''\n",
    "\n",
    "print(\"Enter the two numbers to find GCD of\")\n",
    "a = int(input(\"Enter 1st number: \"))\n",
    "b = int(input(\"Enter 2nd number: \"))\n",
    "\n",
    "def gcd(a,b):\n",
    "    while b != 0:\n",
    "        a, b = b, a%b\n",
    "    return a\n",
    "\n",
    "print(f\"GCD of {a} and {b} is {gcd(a, b)}\")"
   ]
  },
  {
   "cell_type": "code",
   "execution_count": 1,
   "metadata": {},
   "outputs": [
    {
     "name": "stdout",
     "output_type": "stream",
     "text": [
      "L.C.M of 12 and 15 is: 60.0\n"
     ]
    }
   ],
   "source": [
    "'''\n",
    "11. Write a program to find the LCM of two numbers.\n",
    "Example:\n",
    "Input: a = 12, b = 15\n",
    "Output: 60\n",
    "Explanation: The LCM of 12 and 15 is 60.\n",
    "'''\n",
    "a = int(input(\"Enter 1st number: \"))\n",
    "b = int(input(\"Enter 2nd number: \"))\n",
    "\n",
    "def gcd(a, b):\n",
    "    while b != 0:\n",
    "        a, b = b, a%b\n",
    "    return a\n",
    "\n",
    "def lcm (a, b):\n",
    "    return ((a / gcd(a,b))* b)\n",
    "\n",
    "print(f\"L.C.M of {a} and {b} is: {lcm(a,b)}\")"
   ]
  },
  {
   "cell_type": "code",
   "execution_count": 1,
   "metadata": {},
   "outputs": [
    {
     "name": "stdout",
     "output_type": "stream",
     "text": [
      "no. of vowels: 3,\n",
      " vowel letters: ['e', 'o', 'o'] \n",
      " no. of consonants: 7 \n",
      " consonant letters: ['h', 'l', 'l', 'w', 'r', 'l', 'd']\n"
     ]
    }
   ],
   "source": [
    "'''\n",
    "12. Write a program to count vowels and consonants in a given string.\n",
    "Example:\n",
    "Input: string = \"hello world\"\n",
    "Output: Vowels: 3, Consonants: 7\n",
    "Explanation: \"hello world\" contains 3 vowels (e, o, o) and 7 consonants (h, l, l, w, r, l, d).\n",
    "'''\n",
    "\n",
    "x = input(\"Enter a string: \")\n",
    "vowels = 'aeiouAEIOU'\n",
    "n_vow = 0\n",
    "v_list = []\n",
    "n_cons = 0\n",
    "c_list = []\n",
    "for char in x:\n",
    "    if char in vowels:\n",
    "        n_vow += 1\n",
    "        v_list.append(char)\n",
    "    elif char == \" \":\n",
    "        continue\n",
    "    else:\n",
    "        n_cons += 1\n",
    "        c_list.append(char)\n",
    "print ( f\"no. of vowels: {n_vow},\\n vowel letters: {v_list} \\n no. of consonants: {n_cons} \\n consonant letters: {c_list}\")\n"
   ]
  },
  {
   "cell_type": "code",
   "execution_count": 3,
   "metadata": {},
   "outputs": [
    {
     "name": "stdout",
     "output_type": "stream",
     "text": [
      "Reversed string of programming: gnimmargorp\n"
     ]
    }
   ],
   "source": [
    "'''\n",
    "13. Write a program to reverse a given string.\n",
    "Example:\n",
    "Input: string = \"programming\"\n",
    "Output: \"gnimmargorp\"\n",
    "Explanation: The reversed string of \"programming\" is \"gnimmargorp\".\n",
    "'''\n",
    "x = input(\"Enter a string: \")\n",
    "def reverse_string(z):\n",
    "    return z[::-1]\n",
    "\n",
    "print(f\"Reversed string of {x}: {reverse_string(x)}\")\n"
   ]
  },
  {
   "cell_type": "code",
   "execution_count": 3,
   "metadata": {},
   "outputs": [
    {
     "name": "stdout",
     "output_type": "stream",
     "text": [
      "Maximum element in array [45, 89, 75, 6, 3] = 89 \n",
      " Minimum element in array [45, 89, 75, 6, 3] = 3\n"
     ]
    }
   ],
   "source": [
    "'''\n",
    "14.Write a program to find the largest and smallest numbers in an array.\n",
    "Example:\n",
    "Input: array = [4, 7, 1, 8, 5]\n",
    "Output: Largest: 8, Smallest: 1\n",
    "Explanation: The largest number in the array is 8 and the smallest is 1.\n",
    "'''\n",
    "x = [ int(item) for item in input(\"Enter array of numberss separted by space: \").split()]\n",
    "\n",
    "max_el = max(x)\n",
    "min_el = min(x)\n",
    "\n",
    "print(f\"Maximum element in array {x} = {max_el} \\n Minimum element in array {x} = {min_el}\")\n"
   ]
  },
  {
   "cell_type": "code",
   "execution_count": 8,
   "metadata": {},
   "outputs": [
    {
     "name": "stdout",
     "output_type": "stream",
     "text": [
      " Input array: [1, 9, 7, 6, 5, 3] is sorted as: [1, 3, 5, 6, 7, 9]\n"
     ]
    }
   ],
   "source": [
    "'''\n",
    "15. Write a program to sort an array of numbers in ascending order.\n",
    "Example:\n",
    "Input: array = [3, 1, 4, 1, 5, 9]\n",
    "Output: [1, 1, 3, 4, 5, 9]\n",
    "Explanation: The array sorted in ascending order is [1, 1, 3, 4, 5, 9]\n",
    "'''\n",
    "\n",
    "x = [int(item) for item in input(\"Enter array elements separated by space: \").split()]\n",
    "y = x[:] # simply copy the list instead of referencing it.\n",
    "y.sort()\n",
    "print(f\" Input array: {x} is sorted as: {y}\")\n"
   ]
  },
  {
   "cell_type": "code",
   "execution_count": 4,
   "metadata": {},
   "outputs": [
    {
     "name": "stdout",
     "output_type": "stream",
     "text": [
      "Sum of elements in [1, 4, 5, 9, 8]: 27 \n"
     ]
    }
   ],
   "source": [
    "'''\n",
    "16. Write a program to find the sum of elements in an array.\n",
    "Example:\n",
    "Input: array = [1, 2, 3, 4, 5]\n",
    "Output: 15\n",
    "Explanation: The sum of the elements in the array is 15.\n",
    "'''\n",
    "x = [int(item) for item in input(\"Enter array of numbers: \").split()]\n",
    "sum_x = 0\n",
    "for i in x:\n",
    "    sum_x += i\n",
    "print(f\"Sum of elements in {x}: {sum_x} \")\n"
   ]
  },
  {
   "cell_type": "code",
   "execution_count": 7,
   "metadata": {},
   "outputs": [
    {
     "name": "stdout",
     "output_type": "stream",
     "text": [
      "Armstrong number in the range 1 and 500 are: [1, 2, 3, 4, 5, 6, 7, 8, 9, 153, 370, 371, 407]\n"
     ]
    }
   ],
   "source": [
    "'''\n",
    "17. Write a program to find all Armstrong numbers within a given range.\n",
    "Example:\n",
    "Input: range = [1, 500]\n",
    "Output: [1, 153, 370, 371, 407]\n",
    "Explanation: Armstrong numbers between 1 and 500 are 1, 153, 370, 371, and 407.as_integer_ratio.\n",
    "'''\n",
    "x = int(input('Enter Lower limit of range: '))\n",
    "y = int(input('Enter Upper Limit of range: '))\n",
    "\n",
    "def armstrong(a):\n",
    "    length = len(str(a))\n",
    "    sum = 0\n",
    "    for i in str(a):\n",
    "        sum += int(i) ** length\n",
    "    if sum == a:\n",
    "        return True\n",
    "    else:\n",
    "        return False\n",
    "    \n",
    "def find_armstrong( x, y):\n",
    "    arms = []\n",
    "    for b in range(x, y+1):\n",
    "        if armstrong(b):\n",
    "            arms.append(b)\n",
    "    return arms\n",
    "\n",
    "print(f'Armstrong number in the range {x} and {y} are: {find_armstrong(x, y)}')\n",
    "\n",
    "\n"
   ]
  },
  {
   "cell_type": "code",
   "execution_count": 9,
   "metadata": {},
   "outputs": [
    {
     "name": "stdout",
     "output_type": "stream",
     "text": [
      "17 x 1 =  17\n",
      "\n",
      "17 x 2 =  34\n",
      "\n",
      "17 x 3 =  51\n",
      "\n",
      "17 x 4 =  68\n",
      "\n",
      "17 x 5 =  85\n",
      "\n",
      "17 x 6 =  102\n",
      "\n",
      "17 x 7 =  119\n",
      "\n",
      "17 x 8 =  136\n",
      "\n",
      "17 x 9 =  153\n",
      "\n",
      "17 x 10 =  170\n",
      "\n"
     ]
    }
   ],
   "source": [
    "''' \n",
    "18. Write a program to generate multiplication tables for a given number.\n",
    "Example:\n",
    "Input: number = 4\n",
    "Output:\n",
    "4 x 1 = 4  \n",
    "4 x 2 = 8  \n",
    "4 x 3 = 12  \n",
    "4 x 4 = 16  \n",
    "4 x 5 = 20  \n",
    "'''\n",
    "x = int(input(\"Enter a number: \"))\n",
    "\n",
    "def multiplication_table_generator (x):\n",
    "    for i in range(1, 11):\n",
    "        print(f\"{x} x {i} =  {x * i}\\n\")\n",
    "\n",
    "multiplication_table_generator(x)\n",
    "\n"
   ]
  },
  {
   "cell_type": "code",
   "execution_count": 12,
   "metadata": {},
   "outputs": [
    {
     "name": "stdout",
     "output_type": "stream",
     "text": [
      "The numbers in range between 400 and 500 are: [401, 409, 419, 421, 431, 433, 439, 443, 449, 457, 461, 463, 467, 479, 487, 491, 499]\n"
     ]
    }
   ],
   "source": [
    "''' \n",
    "19. Write a program to find all prime numbers within a given range.\n",
    "Example:\n",
    "Input: range = [10, 30]\n",
    "Output: [11, 13, 17, 19, 23, 29]\n",
    "Explanation: Prime numbers between 10 and 30 are 11, 13, 17, 19, 23, and 29.\n",
    "'''\n",
    "x = int(input(\"Enter the lower range: \"))\n",
    "y = int(input(\"Enter the upper range: \"))\n",
    "\n",
    "def find_primes(x, y):\n",
    "    primes = []\n",
    "    for num in range(x, y+1):\n",
    "        count = 0\n",
    "        if num == 0 or num == 1:\n",
    "            continue\n",
    "        for i in range(2, int(num/2) + 1):\n",
    "            if (num % i == 0):\n",
    "                count += 1\n",
    "                break\n",
    "        if count == 0:\n",
    "            primes.append(num)\n",
    "    return primes\n",
    "\n",
    "print(f\"The numbers in range between {x} and {y} are: {find_primes(x,y)}\")    \n"
   ]
  },
  {
   "cell_type": "code",
   "execution_count": 6,
   "metadata": {},
   "outputs": [
    {
     "name": "stdout",
     "output_type": "stream",
     "text": [
      "6 is a perfect number.\n"
     ]
    }
   ],
   "source": [
    "''' \n",
    "20. Write a program to determine if a number is a perfect number.\n",
    "Example:\n",
    "Input: number = 28\n",
    "Output: Perfect Number\n",
    "Explanation: 28 is a perfect number because its divisors (1, 2, 4, 7, 14) sum up to 28.\n",
    "'''\n",
    "x = int(input(\"Enter the number: \"))\n",
    "def is_perfect_number(num):\n",
    "    sum = 0\n",
    "    for i in range(1, int(num/2) + 1):\n",
    "        if (num % i == 0):\n",
    "            sum += i\n",
    "    if (sum == num):\n",
    "        return True\n",
    "    else:\n",
    "        return False\n",
    "if is_perfect_number(x) == True:\n",
    "    print(f\"{x} is a perfect number.\")\n",
    "else:\n",
    "    print(f\"{x} is not a perfect number.\")\n",
    "        "
   ]
  },
  {
   "cell_type": "code",
   "execution_count": 4,
   "metadata": {},
   "outputs": [
    {
     "name": "stdout",
     "output_type": "stream",
     "text": [
      "Sum of even numbers between 1 and 10 is 30.\n"
     ]
    }
   ],
   "source": [
    "''' \n",
    "21. Write a program to find the sum of all even numbers within a given range.\n",
    "Example:\n",
    "Input: range = [1, 10]\n",
    "Output: 30\n",
    "Explanation: The sum of even numbers between 1 and 10 is 2 + 4 + 6 + 8 + 10 = 30.\n",
    "'''\n",
    "x = int(input(\"Find the lower range: \"))\n",
    "y = int(input(\"Find the upper range: \"))\n",
    "\n",
    "sum = 0\n",
    "for i in range(x, y+1):\n",
    "    if i % 2 == 0:\n",
    "        sum  += i\n",
    "print(f\"Sum of even numbers between {x} and {y} is {sum}.\")\n",
    "\n"
   ]
  },
  {
   "cell_type": "code",
   "execution_count": 3,
   "metadata": {},
   "outputs": [
    {
     "name": "stdout",
     "output_type": "stream",
     "text": [
      "Sum of Odd numbers between 1 and 10 is 25\n"
     ]
    }
   ],
   "source": [
    "''' \n",
    "22. Write a program to find the sum of all odd numbers within a given range.\n",
    "Example:\n",
    "Input: range = [1, 10]\n",
    "Output: 25\n",
    "Explanation: The sum of odd numbers between 1 and 10 is 1 + 3 + 5 + 7 + 9 = 25.\n",
    "'''\n",
    "x = int(input(\"Find the lower range: \"))\n",
    "y = int(input(\"Find the upper range: \"))\n",
    "\n",
    "sum = 0\n",
    "for i in range(x, y+1):\n",
    "    if i % 2 == 1:\n",
    "        sum  += i\n",
    "print(f\"Sum of Odd numbers between {x} and {y} is {sum}.\")"
   ]
  },
  {
   "cell_type": "code",
   "execution_count": 8,
   "metadata": {},
   "outputs": [
    {
     "name": "stdout",
     "output_type": "stream",
     "text": [
      "Fibonacci number at 5 position is: 5 & Fibonacci sequence upto postion 5 is :[0, 1, 1, 2, 3, 5]\n"
     ]
    }
   ],
   "source": [
    "'''\n",
    "23. Write a program to find the Fibonacci number at a specific position.\n",
    "Example:\n",
    "Input: position = 5\n",
    "Output: 5\n",
    "Explanation: The Fibonacci number at position 5 is 5 (sequence: 0, 1, 1, 2, 3, 5).\n",
    "'''\n",
    "x = int(input(\"Enter the postion of fibonacci number: \"))\n",
    "a = 0\n",
    "b = 1\n",
    "listu = [0, 1]\n",
    "for i in range(x-1):\n",
    "    c = a + b\n",
    "    listu.append(c)\n",
    "    a = b\n",
    "    b = c\n",
    "\n",
    "print(f\"Fibonacci number at {x} position is: {c} & Fibonacci sequence upto postion {x} is :{listu}\")\n"
   ]
  },
  {
   "cell_type": "code",
   "execution_count": 32,
   "metadata": {},
   "outputs": [
    {
     "name": "stdout",
     "output_type": "stream",
     "text": [
      "Prime numbers below 50 are: [7, 11, 13, 17, 19, 23, 29, 31, 37, 41, 43, 47]\n"
     ]
    }
   ],
   "source": [
    "''' \n",
    "24. Write a program to print all prime numbers less than a given number.\n",
    "Example:\n",
    "Input: number = 20\n",
    "Output: 2, 3, 5, 7, 11, 13, 17, 19\n",
    "Explanation: The prime numbers less than 20 are 2, 3, 5, 7, 11, 13, 17, and 19.\n",
    "'''\n",
    "\n",
    "x = int(input(\"Enter the limit upto which prime number is required: \"))\n",
    "\n",
    "prime_numbers = []\n",
    "for num in range(x+1):\n",
    "  if num > 1:  \n",
    "    for i in range(2, int(num/2)):\n",
    "        count = 0\n",
    "        if num % i == 0:\n",
    "            count += 1\n",
    "            break\n",
    "    if count == 0:\n",
    "        prime_numbers.append(num)\n",
    "print(f\"Prime numbers below {x} are: {prime_numbers}\")\n"
   ]
  },
  {
   "cell_type": "code",
   "execution_count": 14,
   "metadata": {},
   "outputs": [
    {
     "name": "stdout",
     "output_type": "stream",
     "text": [
      "No. of digits in 12345: 5\n"
     ]
    }
   ],
   "source": [
    "''' \n",
    "25. Write a program to count the number of digits in a given number.\n",
    "Example:\n",
    "Input: number = 12345\n",
    "Output: 5\n",
    "Explanation: The number 12345 has 5 digits\n",
    "'''\n",
    "x = int(input(\"Enter the number to count the digits: \"))\n",
    "y = x\n",
    "# count = 0\n",
    "# while x != 0:\n",
    "#     x //= 10\n",
    "#     count += 1\n",
    "\n",
    "# Alternative\n",
    "count = len(str(x))\n",
    "\n",
    "print(f\"No. of digits in {y}: {count}\")"
   ]
  },
  {
   "cell_type": "code",
   "execution_count": 15,
   "metadata": {},
   "outputs": [
    {
     "name": "stdout",
     "output_type": "stream",
     "text": [
      "153 is narcissistic number.\n"
     ]
    }
   ],
   "source": [
    "''' \n",
    "26. Write a program to check if a number is a narcissistic number (where the sum of its digits raised to the power of the number of digits equals the number itself).\n",
    "Example:\n",
    "Input: number = 153\n",
    "Output: Narcissistic Number\n",
    "Explanation: 153 is a narcissistic number because 1^3 + 5^3 + 3^3 = 153.\n",
    "'''\n",
    "x = int(input(\"Enter a number: \"))\n",
    "n = len(str(x))\n",
    "temp = x\n",
    "sum = 0\n",
    "while temp!=0:\n",
    "    a = temp % 10\n",
    "    sum += a **n\n",
    "    temp //= 10\n",
    "if x == sum:\n",
    "    print(f\"{x} is narcissistic number.\")\n",
    "else:\n",
    "    print(f\"{x} is not a narcisistic number.\")"
   ]
  },
  {
   "cell_type": "code",
   "execution_count": 20,
   "metadata": {},
   "outputs": [
    {
     "name": "stdout",
     "output_type": "stream",
     "text": [
      "1 \n",
      "\n",
      "2 3 \n",
      "\n",
      "4 5 6 \n",
      "\n",
      "7 8 9 10 \n",
      "\n",
      "11 12 13 14 15 \n",
      "\n",
      "16 17 18 19 20 21 \n",
      "\n",
      "22 23 24 25 26 27 28 \n",
      "\n"
     ]
    }
   ],
   "source": [
    "''' \n",
    "27. Write a program to generate number patterns (e.g., sequential numbers in a matrix).\n",
    "Example:\n",
    "Input: rows = 3\n",
    "Output:\n",
    "\n",
    "1  \n",
    "2 3  \n",
    "4 5 6  \n",
    "\n",
    "Explanation: A number pattern with 3 rows is generated.\n",
    "'''\n",
    "x = int(input(\"Enter no. of rows: \"))\n",
    "y = 0\n",
    "for i in range(1, x+1):\n",
    "    for j in range(1, i+1):\n",
    "        y+= 1\n",
    "        print(y, end=\" \")\n",
    "    print(\"\\n\")\n"
   ]
  },
  {
   "cell_type": "code",
   "execution_count": 5,
   "metadata": {},
   "outputs": [
    {
     "name": "stdout",
     "output_type": "stream",
     "text": [
      "Factorial of 6 is: 720 and sum of digits of factorial is: 9\n"
     ]
    }
   ],
   "source": [
    "''' \n",
    "27. Write a program to find the sum of the digits of the factorial of a given number.\n",
    "Example:\n",
    "Input: number = 4\n",
    "Output: 9\n",
    "Explanation: The factorial of 4 is 24, and the sum of the digits (2 + 4) is 6.\n",
    "'''\n",
    "\n",
    "def factorial(n):\n",
    "    mul = 1\n",
    "    if n == 0:\n",
    "        fact = 1\n",
    "    while (n>0):\n",
    "        mul *=n\n",
    "        n -= 1\n",
    "    fact = mul\n",
    "    return fact\n",
    "def sum_of_digits(fact):\n",
    "    sum_d = 0\n",
    "    while (fact > 0):\n",
    "        d = fact % 10\n",
    "        sum_d += d \n",
    "        fact //= 10\n",
    "    return sum_d\n",
    "x = int(input(\"Enter a number: \"))\n",
    "facted = factorial(x)\n",
    "print(f\"Factorial of {x} is: {facted} and sum of digits of factorial is: {sum_of_digits(facted)}\")"
   ]
  }
 ],
 "metadata": {
  "kernelspec": {
   "display_name": "Python 3",
   "language": "python",
   "name": "python3"
  },
  "language_info": {
   "codemirror_mode": {
    "name": "ipython",
    "version": 3
   },
   "file_extension": ".py",
   "mimetype": "text/x-python",
   "name": "python",
   "nbconvert_exporter": "python",
   "pygments_lexer": "ipython3",
   "version": "3.12.6"
  }
 },
 "nbformat": 4,
 "nbformat_minor": 2
}
