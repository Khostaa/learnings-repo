{
 "cells": [
  {
   "cell_type": "code",
   "execution_count": 3,
   "metadata": {},
   "outputs": [
    {
     "name": "stdout",
     "output_type": "stream",
     "text": [
      "* \n",
      "* * \n",
      "* * * \n",
      "* * * * \n"
     ]
    }
   ],
   "source": [
    "''' \n",
    "Problem 1: Print a Right-Angle Triangle of Stars\n",
    "'''\n",
    "n = int(input(\"Enter the no. of rows: \"))\n",
    "def print_tri(n):\n",
    "    for i in range(1, n+1):\n",
    "        print(\"* \" * i, end = '\\n')\n",
    "print_tri(n)"
   ]
  },
  {
   "cell_type": "code",
   "execution_count": 1,
   "metadata": {},
   "outputs": [
    {
     "name": "stdout",
     "output_type": "stream",
     "text": [
      "*****\n",
      "*****\n",
      "*****\n",
      "*****\n",
      "*****\n"
     ]
    }
   ],
   "source": [
    "''' \n",
    "Problem 2: Print a Square of Stars\n",
    "'''\n",
    "n = int(input(\"Enter the no. of rows: \"))\n",
    "\n",
    "def print_pattern(n):\n",
    "    for i in range(n):\n",
    "        print(\"*\" * n, end = '\\n')\n",
    "\n",
    "print_pattern(n)\n"
   ]
  }
 ],
 "metadata": {
  "kernelspec": {
   "display_name": "Python 3",
   "language": "python",
   "name": "python3"
  },
  "language_info": {
   "codemirror_mode": {
    "name": "ipython",
    "version": 3
   },
   "file_extension": ".py",
   "mimetype": "text/x-python",
   "name": "python",
   "nbconvert_exporter": "python",
   "pygments_lexer": "ipython3",
   "version": "3.12.6"
  }
 },
 "nbformat": 4,
 "nbformat_minor": 2
}
