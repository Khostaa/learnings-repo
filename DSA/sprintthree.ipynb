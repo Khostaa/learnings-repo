{
 "cells": [
  {
   "cell_type": "code",
   "execution_count": 3,
   "metadata": {},
   "outputs": [
    {
     "name": "stdout",
     "output_type": "stream",
     "text": [
      "* \n",
      "* * \n",
      "* * * \n",
      "* * * * \n"
     ]
    }
   ],
   "source": [
    "''' \n",
    "Problem 1: Print a Right-Angle Triangle of Stars\n",
    "'''\n",
    "n = int(input(\"Enter the no. of rows: \"))\n",
    "def print_tri(n):\n",
    "    for i in range(1, n+1):\n",
    "        print(\"* \" * i, end = '\\n')\n",
    "print_tri(n)"
   ]
  },
  {
   "cell_type": "code",
   "execution_count": null,
   "metadata": {},
   "outputs": [
    {
     "name": "stdout",
     "output_type": "stream",
     "text": [
      "*****\n",
      "*****\n",
      "*****\n",
      "*****\n",
      "*****\n"
     ]
    }
   ],
   "source": [
    "''' \n",
    "Problem 2: Print a Square of Stars\n",
    "'''\n",
    "n = int(input(\"Enter the no. of rows: \"))\n",
    "\n",
    "def print_pattern(n):\n",
    "    for i in range(n):\n",
    "        print(\"*\" * n, end = '\\n')\n",
    "\n",
    "print_pattern(n)"
   ]
  },
  {
   "cell_type": "code",
   "execution_count": 7,
   "metadata": {},
   "outputs": [
    {
     "name": "stdout",
     "output_type": "stream",
     "text": [
      "   *\n",
      "  ***\n",
      " *****\n",
      "*******\n"
     ]
    }
   ],
   "source": [
    "''' \n",
    "Problem 3: Print a Pyramid Pattern\n",
    "'''\n",
    "n = int(input(\"Enter the height of pyramid: \"))\n",
    "def print_pyramid(n):\n",
    "    mid = n // 2 + 1\n",
    "    for i in range(mid + 1):\n",
    "        # Print spaces\n",
    "        for j in range(mid - i):\n",
    "            print(\" \", end=\"\")\n",
    "        # Print stars\n",
    "        for j in range(2 * i + 1):\n",
    "            print(\"*\", end=\"\")\n",
    "        print()  # Move to the next line\n",
    "\n",
    "print_pyramid(n)"
   ]
  },
  {
   "cell_type": "code",
   "execution_count": 28,
   "metadata": {},
   "outputs": [
    {
     "name": "stdout",
     "output_type": "stream",
     "text": [
      "  *\n",
      " ***\n",
      "*****\n",
      " ***\n",
      "  *\n"
     ]
    }
   ],
   "source": [
    "''' \n",
    "Problem 4: Print a Diamond Pattern\n",
    "'''\n",
    "# problmatic\n",
    "def print_diamond(n):\n",
    "    for i in range(1, n+1):\n",
    "        print(\" \"* (n-i)+ \"*\"*(2*i-1),end = '')\n",
    "        print()\n",
    "    for i in range(n-1, 0, -1):\n",
    "        print(\" \"* (n-i)+ \"*\"*(2*i-1),end = '')\n",
    "        print()\n",
    "print_diamond(3)"
   ]
  },
  {
   "cell_type": "code",
   "execution_count": 21,
   "metadata": {},
   "outputs": [
    {
     "name": "stdout",
     "output_type": "stream",
     "text": [
      "******\n",
      "*    *\n",
      "*    *\n",
      "*    *\n",
      "*    *\n",
      "******"
     ]
    }
   ],
   "source": [
    "''' \n",
    "Problem 5: Print a Hollow Square of Stars\n",
    "'''\n",
    "n = int(input(\"Enter the size of the square: \"))\n",
    "\n",
    "def print_hollow_square(n):\n",
    "    \n",
    "        print(\"*\"* n, end=\"\")\n",
    "        print()\n",
    "        for i in range(n-2):\n",
    "            print(\"*\" + \" \"*(n-2) + \"*\")\n",
    "        print(\"*\"*n, end=\"\")\n",
    "\n",
    "print_hollow_square(n)"
   ]
  },
  {
   "cell_type": "code",
   "execution_count": 22,
   "metadata": {},
   "outputs": [
    {
     "name": "stdout",
     "output_type": "stream",
     "text": [
      "1\n",
      "12\n",
      "123\n",
      "1234\n",
      "12345\n"
     ]
    }
   ],
   "source": [
    "''' \n",
    "Problem 6: Print a Number Triangle\n",
    "'''\n",
    "n = int(input(\"Enter the size: \"))\n",
    "def print_number_triangle(n):\n",
    "    for i in range(1, n+1):\n",
    "        for j in range(i):\n",
    "            print(j+1, end=\"\")\n",
    "        print()\n",
    "\n",
    "print_number_triangle(n)"
   ]
  },
  {
   "cell_type": "code",
   "execution_count": 10,
   "metadata": {},
   "outputs": [
    {
     "name": "stdout",
     "output_type": "stream",
     "text": [
      " *****\n",
      "  ****\n",
      "   ***\n",
      "    **\n",
      "     *\n"
     ]
    }
   ],
   "source": [
    "''' \n",
    "Problem 7: Print an Inverted Triangle Pattern\n",
    "'''\n",
    "n = int(input(\"Enter the height of triangle: \"))\n",
    "def print_inverted_triangle(n):\n",
    "    for i in range(n, 0, -1):\n",
    "        print(\" \"*(n-i),\"*\"*i, end='')\n",
    "        print()\n",
    "\n",
    "\n",
    "print_inverted_triangle(n)"
   ]
  },
  {
   "cell_type": "code",
   "execution_count": null,
   "metadata": {},
   "outputs": [
    {
     "name": "stdout",
     "output_type": "stream",
     "text": [
      "   1\n",
      "  121\n",
      " 12321\n",
      "1234321\n",
      " 12333\n",
      "  122\n",
      "   1\n"
     ]
    }
   ],
   "source": [
    "''' \n",
    "Problem 8: Print a Diamond Pattern with Numbers\n",
    "'''\n",
    "n = int(input(\"Enter the no. of numbers: \"))\n",
    "def print_diamond_pattern(n):\n",
    "\n",
    "    # top half of diamond\n",
    "    for i in range(1, n+1):\n",
    "        # leading spaces\n",
    "        print(\" \"* (n-i), end='')\n",
    "        # increasing numbers\n",
    "        for j in range(1, i+1):\n",
    "            print(j, end='')\n",
    "        # decreasing numbers\n",
    "        for k in range(i-1, 0, -1):\n",
    "            print(k, end='')\n",
    "        print()\n",
    "\n",
    "    # bottom half of diamond\n",
    "    for i in range(n-1, 0, -1):\n",
    "        # print leadding spaces\n",
    "        print(\" \"* (n-i), end='')\n",
    "        # print increasing numbers\n",
    "        for j in range(1, i+1):\n",
    "            print(j, end='')\n",
    "        # print decreasing numbers\n",
    "        for k in range(i-1, 0, -1):\n",
    "            print(j, end='')\n",
    "        print()\n",
    "\n",
    "print_diamond_pattern(n)"
   ]
  },
  {
   "cell_type": "code",
   "execution_count": 5,
   "metadata": {},
   "outputs": [
    {
     "name": "stdout",
     "output_type": "stream",
     "text": [
      "1\n",
      "23\n",
      "456\n",
      "78910\n"
     ]
    }
   ],
   "source": [
    "'''\n",
    "Problem 9: Print a Right-Angle Triangle of Numbers\n",
    "'''\n",
    "n = int(input(\"Enter the size of pattern: \"))\n",
    "k = 0\n",
    "for i in range(n):\n",
    "    for j in range(i+1):\n",
    "        k = k+1\n",
    "        print(k, end='')\n",
    "    print()"
   ]
  },
  {
   "cell_type": "code",
   "execution_count": null,
   "metadata": {},
   "outputs": [
    {
     "name": "stdout",
     "output_type": "stream",
     "text": [
      "    1\n",
      "   232\n",
      "  34543\n",
      " 4567654\n",
      "567898765\n"
     ]
    }
   ],
   "source": [
    "''' \n",
    "Problem 10: Print a Pyramid Pattern with Numbers\n",
    "  1\n",
    " 232\n",
    "34543\n",
    "'''\n",
    "n = int(input(\"Enter the no. of rows: \"))\n",
    "def print_pyramid(n):\n",
    "    k = 1\n",
    "    for i in range(1, n+1):\n",
    "        # leading spaces\n",
    "        print(\" \"*(n-i), end='')\n",
    "        # increasing numbers\n",
    "        for j in range(i, i+k):\n",
    "            print(j, end='')\n",
    "        # decreasing numbers\n",
    "        for m in range(j-1,i-1, -1):\n",
    "            print(m, end='')\n",
    "        print()\n",
    "        k+=1\n",
    "print_pyramid(n)"
   ]
  },
  {
   "cell_type": "code",
   "execution_count": 14,
   "metadata": {},
   "outputs": [
    {
     "name": "stdout",
     "output_type": "stream",
     "text": [
      "0101\n",
      "1010\n",
      "0101\n",
      "1010\n"
     ]
    }
   ],
   "source": [
    "''' \n",
    "Problem 11: Print a Pattern of Alternating 0s and 1s\n",
    "'''\n",
    "n = int(input(\"Enter the size: \"))\n",
    "def print_pattern(n):\n",
    "    for i in range(n):\n",
    "        count = 0\n",
    "        for j in range(n):\n",
    "            if (i+j) % 2 == 0:\n",
    "                print(\"0\", end='')\n",
    "            else:\n",
    "                print(\"1\", end='')\n",
    "        print()\n",
    "print_pattern(n)"
   ]
  },
  {
   "cell_type": "code",
   "execution_count": 54,
   "metadata": {},
   "outputs": [
    {
     "name": "stdout",
     "output_type": "stream",
     "text": [
      "    1  \n",
      "   1  1  \n",
      "  1  2  1  \n",
      " 1  3  3  1  \n",
      "1  4  6  4  1  \n"
     ]
    }
   ],
   "source": [
    "''' \n",
    "Problem 12: Print a Pascal's Triangle\n",
    "'''\n",
    "def pascal(rows):\n",
    "    for n in range(1, rows+1):\n",
    "        ncr = 1\n",
    "        print(\" \"*(rows-n), end='')\n",
    "        for r in range(1, n+1):\n",
    "            print(ncr, \" \", end='')\n",
    "            ncr = ncr * (n - r) // r\n",
    "        print()\n",
    "\n",
    "x = int(input(\"Enter no. of rows: \"))\n",
    "pascal(x)"
   ]
  },
  {
   "cell_type": "code",
   "execution_count": 6,
   "metadata": {},
   "outputs": [
    {
     "name": "stdout",
     "output_type": "stream",
     "text": [
      "1 2 3 \n",
      "4 5 6 \n",
      "7 8 9 \n"
     ]
    }
   ],
   "source": [
    "''' \n",
    "Problem 13: Print a Pattern of Consecutive Numbers\n",
    "1 2 3\n",
    "4 5 6\n",
    "7 8 9\n",
    "'''\n",
    "n = int(input(\"Enter the size of pattern: \"))\n",
    "k = 1\n",
    "for i in range(n):\n",
    "    for j in range(n):\n",
    "        print(k, end=' ')\n",
    "        k = k+1\n",
    "    print()"
   ]
  },
  {
   "cell_type": "code",
   "execution_count": 10,
   "metadata": {},
   "outputs": [
    {
     "name": "stdout",
     "output_type": "stream",
     "text": [
      "*\n",
      "***\n",
      "*****\n",
      "*******\n"
     ]
    }
   ],
   "source": [
    "''' \n",
    "Problem 14: Print a Star Pattern with Increasing Width.\n",
    "'''\n",
    "n = int(input(\"Enter the no. of rows: \"))\n",
    "\n",
    "for i in range(1, n+1):\n",
    "    char = '*'\n",
    "    if i == 1:\n",
    "      print(char, end='')\n",
    "    else:\n",
    "      print(char*(i-1) + i*char, end='')\n",
    "    print()"
   ]
  },
  {
   "cell_type": "code",
   "execution_count": 5,
   "metadata": {},
   "outputs": [
    {
     "name": "stdout",
     "output_type": "stream",
     "text": [
      "A\n",
      "BB\n",
      "CCC\n",
      "DDDD\n"
     ]
    }
   ],
   "source": [
    "''' \n",
    "Problem 15: Print a Right-Angle Triangle Pattern with Characters\n",
    "'''\n",
    "n = int(input(\"Enter the no. of rows: \"))\n",
    "\n",
    "initial = 64\n",
    "for i in range(1, n+1):\n",
    "    initial += 1\n",
    "    for j in range(i): \n",
    "        print(chr(initial), end='')\n",
    "    print()"
   ]
  },
  {
   "cell_type": "code",
   "execution_count": 6,
   "metadata": {},
   "outputs": [
    {
     "name": "stdout",
     "output_type": "stream",
     "text": [
      "XOXOXO\n",
      "OXOXOX\n",
      "XOXOXO\n",
      "OXOXOX\n"
     ]
    }
   ],
   "source": [
    "''' \n",
    "Problem 16: Print a Checkerboard Pattern\n",
    "'''\n",
    "n = int(input(\"Enter the size: \"))\n",
    "def print_pattern(n):\n",
    "    for i in range(n):\n",
    "        for j in range(6):\n",
    "            if (i+j) % 2 == 0:\n",
    "                print(\"X\", end='')\n",
    "            else:\n",
    "                print(\"O\", end='')\n",
    "        print()\n",
    "print_pattern(n)"
   ]
  },
  {
   "cell_type": "code",
   "execution_count": 23,
   "metadata": {},
   "outputs": [
    {
     "name": "stdout",
     "output_type": "stream",
     "text": [
      "     *\n",
      "    ***\n",
      "   *****\n",
      "  *******\n",
      " *********\n",
      "***********\n"
     ]
    }
   ],
   "source": [
    "''' \n",
    "Problem 17: Print a Pyramid Pattern of Increasing Stars\n",
    "'''\n",
    "n = int(input(\"Enter the no. of rows: \"))\n",
    "\n",
    "for i in range(1, n + 1):\n",
    "        print(\" \"*(n-i), end='')\n",
    "        for k in range(1, 2*i):\n",
    "            print(\"*\", end='')\n",
    "        print()"
   ]
  },
  {
   "cell_type": "code",
   "execution_count": 14,
   "metadata": {},
   "outputs": [
    {
     "name": "stdout",
     "output_type": "stream",
     "text": [
      "123456\n",
      "1    1\n",
      "1    1\n",
      "1    1\n",
      "1    1\n",
      "123456"
     ]
    }
   ],
   "source": [
    "''' \n",
    "Problem 18: Print a Border Pattern with Numbers\n",
    "'''\n",
    "n = int(input(\"Enter the size of pattern: \"))\n",
    "def print_pattern(n):\n",
    "    for i in range(1, n+1):\n",
    "        print(i, end=\"\")\n",
    "    print()\n",
    "    for j in range(n-2):\n",
    "        print('1'+\" \"*(n-2)+'1' )\n",
    "    for i in range(1, n+1):\n",
    "        print(i, end='')\n",
    "\n",
    "print_pattern(n)"
   ]
  }
 ],
 "metadata": {
  "kernelspec": {
   "display_name": "Python 3",
   "language": "python",
   "name": "python3"
  },
  "language_info": {
   "codemirror_mode": {
    "name": "ipython",
    "version": 3
   },
   "file_extension": ".py",
   "mimetype": "text/x-python",
   "name": "python",
   "nbconvert_exporter": "python",
   "pygments_lexer": "ipython3",
   "version": "3.12.6"
  }
 },
 "nbformat": 4,
 "nbformat_minor": 2
}
