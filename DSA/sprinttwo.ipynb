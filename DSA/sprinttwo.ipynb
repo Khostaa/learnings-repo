{
 "cells": [
  {
   "cell_type": "code",
   "execution_count": 3,
   "metadata": {},
   "outputs": [
    {
     "name": "stdout",
     "output_type": "stream",
     "text": [
      "Sum of digits of 123456: 21\n"
     ]
    }
   ],
   "source": [
    "''' \n",
    "1. Write a program to repeatedly sum the digits of a number until the result is zero.\n",
    "Example:\n",
    "Input: number = 123\n",
    "Output: 6\n",
    "Explanation: Sum of digits is 1 + 2 + 3 = 6; sum of digits of 6 is 6 (which is a single digit).\n",
    "'''\n",
    "x = int(input(\"Enter the number: \"))\n",
    "temp = x\n",
    "sum = 0\n",
    "while x!=0:\n",
    "    sum += x % 10\n",
    "    x = x // 10\n",
    "print(f\"Sum of digits of {temp}: {sum}\")\n"
   ]
  },
  {
   "cell_type": "code",
   "execution_count": 2,
   "metadata": {},
   "outputs": [
    {
     "name": "stdout",
     "output_type": "stream",
     "text": [
      "2 X 1 = 2\n",
      "2 X 2 = 4\n",
      "2 X 3 = 6\n",
      "2 X 4 = 8\n",
      "\n",
      "\n",
      "3 X 1 = 3\n",
      "3 X 2 = 6\n",
      "3 X 3 = 9\n",
      "3 X 4 = 12\n",
      "\n",
      "\n",
      "4 X 1 = 4\n",
      "4 X 2 = 8\n",
      "4 X 3 = 12\n",
      "4 X 4 = 16\n",
      "\n",
      "\n"
     ]
    }
   ],
   "source": [
    "''' \n",
    "2. Write a program to generate multiplication tables for numbers within a specified range.\n",
    "Example:\n",
    "Input: start = 2, end = 4\n",
    "Output:\n",
    "2 x 1 = 2   3 x 1 = 3   4 x 1 = 4  \n",
    "2 x 2 = 4   3 x 2 = 6   4 x 2 = 8  \n",
    "2 x 3 = 6   3 x 3 = 9   4 x 3 = 12  \n",
    "2 x 4 = 8   3 x 4 = 12  4 x 4 = 16  \n",
    "'''\n",
    "start = int(input(\"Enter the starting number: \"))\n",
    "end = int(input(\"Enter the ending number: \"))\n",
    "for i in range(start, end+1):\n",
    "    for j in range(1, end+1):\n",
    "        print(f\"{i} X {j} = {i*j}\")\n",
    "    print(\"\\n\")\n",
    "\n",
    "\n"
   ]
  },
  {
   "cell_type": "code",
   "execution_count": 6,
   "metadata": {},
   "outputs": [
    {
     "name": "stdout",
     "output_type": "stream",
     "text": [
      "Sum of series: \n",
      "1/1 + 1/2 + 1/3 + 1/4 +  is: 2.083333333333333\n"
     ]
    }
   ],
   "source": [
    "''' \n",
    "3. Write a program to calculate the sum of the series 1 + 1/2 + 1/3 + ... + 1/n up to the nth term.\n",
    "Example:\n",
    "Input: n = 4\n",
    "Output: 2.083333\n",
    "Explanation: Sum of the series is 1 + 1/2 + 1/3 + 1/4 ≈ 2.083333.\n",
    "'''\n",
    "def sum_of_series(n):\n",
    "    sum = 0\n",
    "    for i in range(1, n+1):\n",
    "        sum += 1/(i)\n",
    "    return sum\n",
    "def print_series(n):\n",
    "    for i in range(1, n+1):\n",
    "        print(f\"1/{i} +\", end = \" \")\n",
    "\n",
    "num = int(input(\"Enter the nth term of the series: \"))\n",
    "print(\"Sum of series: \")\n",
    "print_series(num)\n",
    "print(f\" is: {sum_of_series(num)}\")"
   ]
  },
  {
   "cell_type": "code",
   "execution_count": 4,
   "metadata": {},
   "outputs": [
    {
     "name": "stdout",
     "output_type": "stream",
     "text": [
      "Pairs that sum upto 8 are: \n",
      "(1, 7)\n",
      "(2, 6)\n",
      "(3, 5)\n",
      "(4, 4)\n",
      "(5, 3)\n",
      "(6, 2)\n",
      "(7, 1)\n"
     ]
    }
   ],
   "source": [
    "''' \n",
    "4. Write a program to find all pairs of elements in an array whose sum equals a specified target.\n",
    "Example:\n",
    "Input: array = [1, 2, 3, 4, 5], target = 5\n",
    "Output: [(1, 4), (2, 3)]\n",
    "Explanation: Pairs that sum up to 5 are (1, 4) and (2, 3).\n",
    "'''\n",
    "target = int(input(\"Enter the target: \"))\n",
    "array = [int(x) for x in input(\"Enter the array: \").split()]\n",
    "\n",
    "print(f\"Pairs that sum upto {target} are: \")\n",
    "for i in array:\n",
    "    for j in array:\n",
    "        if i + j == target:\n",
    "            print(f\"({i}, {j})\")\n"
   ]
  },
  {
   "cell_type": "code",
   "execution_count": 12,
   "metadata": {},
   "outputs": [
    {
     "name": "stdout",
     "output_type": "stream",
     "text": [
      "    *\n",
      "   ***\n",
      "  *****\n",
      " *******\n",
      "*********\n",
      " *******\n",
      "  *****\n",
      "   ***\n",
      "    *\n"
     ]
    }
   ],
   "source": [
    "''' \n",
    "5. Write a program to create a diamond pattern with stars of a given size.\n",
    "Example:\n",
    "Input: size = 5\n",
    "Output:\n",
    "\n",
    "  *  \n",
    " ***  \n",
    "*****  \n",
    " ***  \n",
    "  *  \n",
    "'''\n",
    "def print_diamond(size):\n",
    "    mid = size // 2\n",
    "\n",
    "    # Loop for the upper half of the diamond\n",
    "    for i in range(mid + 1):\n",
    "        # Print spaces\n",
    "        for j in range(mid - i):\n",
    "            print(\" \", end=\"\")\n",
    "        # Print stars\n",
    "        for j in range(2 * i + 1):\n",
    "            print(\"*\", end=\"\")\n",
    "        print()  # Move to the next line\n",
    "\n",
    "    # Loop for the lower half of the diamond (incrementing loop)\n",
    "    for i in range(1, mid + 1):\n",
    "        # Print spaces\n",
    "        for j in range(i):\n",
    "            print(\" \", end=\"\")\n",
    "        # Print stars\n",
    "        for j in range(2 * (mid - i) + 1):\n",
    "            print(\"*\", end=\"\")\n",
    "        print()  # Move to the next line\n",
    "\n",
    "# Input: size of the diamond (should be an odd number)\n",
    "size = int(input(\"Enter an odd number for the size of the diamond: \"))\n",
    "if size % 2 == 0:\n",
    "    print(\"Please enter an odd number.\")\n",
    "else:\n",
    "    print_diamond(size)\n",
    "\n"
   ]
  }
 ],
 "metadata": {
  "kernelspec": {
   "display_name": "Python 3",
   "language": "python",
   "name": "python3"
  },
  "language_info": {
   "codemirror_mode": {
    "name": "ipython",
    "version": 3
   },
   "file_extension": ".py",
   "mimetype": "text/x-python",
   "name": "python",
   "nbconvert_exporter": "python",
   "pygments_lexer": "ipython3",
   "version": "3.12.6"
  }
 },
 "nbformat": 4,
 "nbformat_minor": 2
}
