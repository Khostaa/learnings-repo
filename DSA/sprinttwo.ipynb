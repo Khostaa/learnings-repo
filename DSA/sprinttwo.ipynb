{
 "cells": [
  {
   "cell_type": "code",
   "execution_count": 3,
   "metadata": {},
   "outputs": [
    {
     "name": "stdout",
     "output_type": "stream",
     "text": [
      "Sum of digits of 123456: 21\n"
     ]
    }
   ],
   "source": [
    "''' \n",
    "1. Write a program to repeatedly sum the digits of a number until the result is zero.\n",
    "Example:\n",
    "Input: number = 123\n",
    "Output: 6\n",
    "Explanation: Sum of digits is 1 + 2 + 3 = 6; sum of digits of 6 is 6 (which is a single digit).\n",
    "'''\n",
    "x = int(input(\"Enter the number: \"))\n",
    "temp = x\n",
    "sum = 0\n",
    "while x!=0:\n",
    "    sum += x % 10\n",
    "    x = x // 10\n",
    "print(f\"Sum of digits of {temp}: {sum}\")\n"
   ]
  },
  {
   "cell_type": "code",
   "execution_count": 2,
   "metadata": {},
   "outputs": [
    {
     "name": "stdout",
     "output_type": "stream",
     "text": [
      "2 X 1 = 2\n",
      "2 X 2 = 4\n",
      "2 X 3 = 6\n",
      "2 X 4 = 8\n",
      "\n",
      "\n",
      "3 X 1 = 3\n",
      "3 X 2 = 6\n",
      "3 X 3 = 9\n",
      "3 X 4 = 12\n",
      "\n",
      "\n",
      "4 X 1 = 4\n",
      "4 X 2 = 8\n",
      "4 X 3 = 12\n",
      "4 X 4 = 16\n",
      "\n",
      "\n"
     ]
    }
   ],
   "source": [
    "''' \n",
    "2. Write a program to generate multiplication tables for numbers within a specified range.\n",
    "Example:\n",
    "Input: start = 2, end = 4\n",
    "Output:\n",
    "2 x 1 = 2   3 x 1 = 3   4 x 1 = 4  \n",
    "2 x 2 = 4   3 x 2 = 6   4 x 2 = 8  \n",
    "2 x 3 = 6   3 x 3 = 9   4 x 3 = 12  \n",
    "2 x 4 = 8   3 x 4 = 12  4 x 4 = 16  \n",
    "'''\n",
    "start = int(input(\"Enter the starting number: \"))\n",
    "end = int(input(\"Enter the ending number: \"))\n",
    "for i in range(start, end+1):\n",
    "    for j in range(1, end+1):\n",
    "        print(f\"{i} X {j} = {i*j}\")\n",
    "    print(\"\\n\")\n",
    "\n",
    "\n"
   ]
  },
  {
   "cell_type": "code",
   "execution_count": 6,
   "metadata": {},
   "outputs": [
    {
     "name": "stdout",
     "output_type": "stream",
     "text": [
      "Sum of series: \n",
      "1/1 + 1/2 + 1/3 + 1/4 +  is: 2.083333333333333\n"
     ]
    }
   ],
   "source": [
    "''' \n",
    "3. Write a program to calculate the sum of the series 1 + 1/2 + 1/3 + ... + 1/n up to the nth term.\n",
    "Example:\n",
    "Input: n = 4\n",
    "Output: 2.083333\n",
    "Explanation: Sum of the series is 1 + 1/2 + 1/3 + 1/4 ≈ 2.083333.\n",
    "'''\n",
    "def sum_of_series(n):\n",
    "    sum = 0\n",
    "    for i in range(1, n+1):\n",
    "        sum += 1/(i)\n",
    "    return sum\n",
    "def print_series(n):\n",
    "    for i in range(1, n+1):\n",
    "        print(f\"1/{i} +\", end = \" \")\n",
    "\n",
    "num = int(input(\"Enter the nth term of the series: \"))\n",
    "print(\"Sum of series: \")\n",
    "print_series(num)\n",
    "print(f\" is: {sum_of_series(num)}\")"
   ]
  }
 ],
 "metadata": {
  "kernelspec": {
   "display_name": "Python 3",
   "language": "python",
   "name": "python3"
  },
  "language_info": {
   "codemirror_mode": {
    "name": "ipython",
    "version": 3
   },
   "file_extension": ".py",
   "mimetype": "text/x-python",
   "name": "python",
   "nbconvert_exporter": "python",
   "pygments_lexer": "ipython3",
   "version": "3.12.6"
  }
 },
 "nbformat": 4,
 "nbformat_minor": 2
}
