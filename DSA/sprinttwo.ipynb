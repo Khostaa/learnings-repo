{
 "cells": [
  {
   "cell_type": "code",
   "execution_count": 3,
   "metadata": {},
   "outputs": [
    {
     "name": "stdout",
     "output_type": "stream",
     "text": [
      "Sum of digits of 123456: 21\n"
     ]
    }
   ],
   "source": [
    "''' \n",
    "1. Write a program to repeatedly sum the digits of a number until the result is zero.\n",
    "Example:\n",
    "Input: number = 123\n",
    "Output: 6\n",
    "Explanation: Sum of digits is 1 + 2 + 3 = 6; sum of digits of 6 is 6 (which is a single digit).\n",
    "'''\n",
    "x = int(input(\"Enter the number: \"))\n",
    "temp = x\n",
    "sum = 0\n",
    "while x!=0:\n",
    "    sum += x % 10\n",
    "    x = x // 10\n",
    "print(f\"Sum of digits of {temp}: {sum}\")\n"
   ]
  },
  {
   "cell_type": "code",
   "execution_count": 2,
   "metadata": {},
   "outputs": [
    {
     "name": "stdout",
     "output_type": "stream",
     "text": [
      "2 X 1 = 2\n",
      "2 X 2 = 4\n",
      "2 X 3 = 6\n",
      "2 X 4 = 8\n",
      "\n",
      "\n",
      "3 X 1 = 3\n",
      "3 X 2 = 6\n",
      "3 X 3 = 9\n",
      "3 X 4 = 12\n",
      "\n",
      "\n",
      "4 X 1 = 4\n",
      "4 X 2 = 8\n",
      "4 X 3 = 12\n",
      "4 X 4 = 16\n",
      "\n",
      "\n"
     ]
    }
   ],
   "source": [
    "''' \n",
    "2. Write a program to generate multiplication tables for numbers within a specified range.\n",
    "Example:\n",
    "Input: start = 2, end = 4\n",
    "Output:\n",
    "2 x 1 = 2   3 x 1 = 3   4 x 1 = 4  \n",
    "2 x 2 = 4   3 x 2 = 6   4 x 2 = 8  \n",
    "2 x 3 = 6   3 x 3 = 9   4 x 3 = 12  \n",
    "2 x 4 = 8   3 x 4 = 12  4 x 4 = 16  \n",
    "'''\n",
    "start = int(input(\"Enter the starting number: \"))\n",
    "end = int(input(\"Enter the ending number: \"))\n",
    "for i in range(start, end+1):\n",
    "    for j in range(1, end+1):\n",
    "        print(f\"{i} X {j} = {i*j}\")\n",
    "    print(\"\\n\")\n",
    "\n",
    "\n"
   ]
  },
  {
   "cell_type": "code",
   "execution_count": 6,
   "metadata": {},
   "outputs": [
    {
     "name": "stdout",
     "output_type": "stream",
     "text": [
      "Sum of series: \n",
      "1/1 + 1/2 + 1/3 + 1/4 +  is: 2.083333333333333\n"
     ]
    }
   ],
   "source": [
    "''' \n",
    "3. Write a program to calculate the sum of the series 1 + 1/2 + 1/3 + ... + 1/n up to the nth term.\n",
    "Example:\n",
    "Input: n = 4\n",
    "Output: 2.083333\n",
    "Explanation: Sum of the series is 1 + 1/2 + 1/3 + 1/4 ≈ 2.083333.\n",
    "'''\n",
    "def sum_of_series(n):\n",
    "    sum = 0\n",
    "    for i in range(1, n+1):\n",
    "        sum += 1/(i)\n",
    "    return sum\n",
    "def print_series(n):\n",
    "    for i in range(1, n+1):\n",
    "        print(f\"1/{i} +\", end = \" \")\n",
    "\n",
    "num = int(input(\"Enter the nth term of the series: \"))\n",
    "print(\"Sum of series: \")\n",
    "print_series(num)\n",
    "print(f\" is: {sum_of_series(num)}\")"
   ]
  },
  {
   "cell_type": "code",
   "execution_count": 4,
   "metadata": {},
   "outputs": [
    {
     "name": "stdout",
     "output_type": "stream",
     "text": [
      "Pairs that sum upto 8 are: \n",
      "(1, 7)\n",
      "(2, 6)\n",
      "(3, 5)\n",
      "(4, 4)\n",
      "(5, 3)\n",
      "(6, 2)\n",
      "(7, 1)\n"
     ]
    }
   ],
   "source": [
    "''' \n",
    "4. Write a program to find all pairs of elements in an array whose sum equals a specified target.\n",
    "Example:\n",
    "Input: array = [1, 2, 3, 4, 5], target = 5\n",
    "Output: [(1, 4), (2, 3)]\n",
    "Explanation: Pairs that sum up to 5 are (1, 4) and (2, 3).\n",
    "'''\n",
    "target = int(input(\"Enter the target: \"))\n",
    "array = [int(x) for x in input(\"Enter the array: \").split()]\n",
    "\n",
    "print(f\"Pairs that sum upto {target} are: \")\n",
    "for i in array:\n",
    "    for j in array:\n",
    "        if i + j == target:\n",
    "            print(f\"({i}, {j})\")\n"
   ]
  },
  {
   "cell_type": "code",
   "execution_count": 12,
   "metadata": {},
   "outputs": [
    {
     "name": "stdout",
     "output_type": "stream",
     "text": [
      "    *\n",
      "   ***\n",
      "  *****\n",
      " *******\n",
      "*********\n",
      " *******\n",
      "  *****\n",
      "   ***\n",
      "    *\n"
     ]
    }
   ],
   "source": [
    "''' \n",
    "5. Write a program to create a diamond pattern with stars of a given size.\n",
    "Example:\n",
    "Input: size = 5\n",
    "Output:\n",
    "\n",
    "  *  \n",
    " ***  \n",
    "*****  \n",
    " ***  \n",
    "  *  \n",
    "'''\n",
    "def print_diamond(size):\n",
    "    mid = size // 2\n",
    "\n",
    "    # Loop for the upper half of the diamond\n",
    "    for i in range(mid + 1):\n",
    "        # Print spaces\n",
    "        for j in range(mid - i):\n",
    "            print(\" \", end=\"\")\n",
    "        # Print stars\n",
    "        for j in range(2 * i + 1):\n",
    "            print(\"*\", end=\"\")\n",
    "        print()  # Move to the next line\n",
    "\n",
    "    # Loop for the lower half of the diamond (incrementing loop)\n",
    "    for i in range(1, mid + 1):\n",
    "        # Print spaces\n",
    "        for j in range(i):\n",
    "            print(\" \", end=\"\")\n",
    "        # Print stars\n",
    "        for j in range(2 * (mid - i) + 1):\n",
    "            print(\"*\", end=\"\")\n",
    "        print()  # Move to the next line\n",
    "\n",
    "# Input: size of the diamond (should be an odd number)\n",
    "size = int(input(\"Enter an odd number for the size of the diamond: \"))\n",
    "if size % 2 == 0:\n",
    "    print(\"Please enter an odd number.\")\n",
    "else:\n",
    "    print_diamond(size)\n",
    "\n"
   ]
  },
  {
   "cell_type": "code",
   "execution_count": 12,
   "metadata": {},
   "outputs": [
    {
     "name": "stdout",
     "output_type": "stream",
     "text": [
      "r\n",
      "radar\n",
      "a\n",
      "ada\n",
      "d\n",
      "a\n",
      "r\n",
      "No. of palindromic substrings in a radar: 7\n"
     ]
    }
   ],
   "source": [
    "''' \n",
    "6. Write a program to count how many palindromic substrings exist in a given string.\n",
    "Example:\n",
    "Input: string = \"aaa\"\n",
    "Output: 6\n",
    "Explanation: Palindromic substrings are \"a\", \"a\", \"a\", \"aa\", \"aa\", \"aaa\".\n",
    "'''\n",
    "\n",
    "def is_palindrome(string):\n",
    "    if string == string[::-1]:\n",
    "        return True\n",
    "    else:\n",
    "        return False\n",
    "    \n",
    "def count_palindromic_substrings(string):\n",
    "    count = 0\n",
    "    for i in range(len(string)):\n",
    "        for j in range(i, len(string)):\n",
    "            substring = string[i:j+1]\n",
    "            if substring == substring[::-1]:\n",
    "                print(substring)\n",
    "                count += 1\n",
    "    return count\n",
    "\n",
    "string = input(\"Enter the string to check for no. of palindromic substrings: \").lower()\n",
    "if is_palindrome(string) == True:\n",
    "    print(f\"No. of palindromic substrings in a {string}: {count_palindromic_substrings(string)}\")\n",
    "else:\n",
    "    print(\"Enter a valid string!\")\n"
   ]
  },
  {
   "cell_type": "code",
   "execution_count": 14,
   "metadata": {},
   "outputs": [
    {
     "name": "stdout",
     "output_type": "stream",
     "text": [
      "1 2 3 4 \n",
      "2 4 6 8 \n",
      "3 6 9 12 \n",
      "4 8 12 16 \n"
     ]
    }
   ],
   "source": [
    "''' \n",
    "7. Write a program to generate a matrix where each element at position (i, j) is the product of i and j.\n",
    "Example:\n",
    "Input: size = 3\n",
    "Output:\n",
    "\n",
    "1 2 3  \n",
    "2 4 6  \n",
    "3 6 9  \n",
    "\n",
    "'''\n",
    "def multiplication_table(size):\n",
    "    for i in range(1, size+1):\n",
    "        for j in range(1, size+1):\n",
    "            print(i*j, end=\" \")\n",
    "        print()\n",
    "\n",
    "size = int(input(\"Enter the size of required matrix: \"))\n",
    "multiplication_table(size)\n"
   ]
  },
  {
   "cell_type": "code",
   "execution_count": 6,
   "metadata": {},
   "outputs": [
    {
     "name": "stdout",
     "output_type": "stream",
     "text": [
      "The greatest commond divisor of array [20, 30, 60, 100]: 10\n"
     ]
    }
   ],
   "source": [
    "'''\n",
    "8. Write a program to find the GCD (Greatest Common Divisor) of an array of numbers.\n",
    "Example:\n",
    "Input: array = [12, 24, 36]\n",
    "Output: 12\n",
    "Explanation: The GCD of 12, 24, and 36 is 12.\n",
    "'''\n",
    "def gcd_array(arr):\n",
    "    minm = min(arr)\n",
    "    for i in range (minm, 0, -1):\n",
    "        count = 0\n",
    "        arr_length = len(arr)\n",
    "        for j in arr:\n",
    "            if j % i != 0:\n",
    "                break\n",
    "            else:\n",
    "                count+=1\n",
    "        if count == arr_length:\n",
    "            return i\n",
    "array = [int(x) for x in input(\"Enter the array to find GCD of: \").split()]\n",
    "print(f\"The greatest commond divisor of array {array}: {gcd_array(array)}\")"
   ]
  },
  {
   "cell_type": "code",
   "execution_count": 9,
   "metadata": {},
   "outputs": [
    {
     "name": "stdout",
     "output_type": "stream",
     "text": [
      "Sum of first 21 odd numbers are: 441 \n"
     ]
    }
   ],
   "source": [
    "''' \n",
    "9. Write a program to calculate the sum of the first N odd numbers.\n",
    "Example:\n",
    "Input: N = 5\n",
    "Output: 25\n",
    "Explanation: Sum of the first 5 odd numbers (1 + 3 + 5 + 7 + 9) is 25.\n",
    "'''\n",
    "def sum_n_odd_numbers(n):\n",
    "    sum = 0\n",
    "    for i in range(n):\n",
    "        sum += 2*i+1\n",
    "    return sum\n",
    "num = int(input(\"Enter the no. of odd numbers to sum: \"))\n",
    "print(f\"Sum of first {num} odd numbers are: {sum_n_odd_numbers(num)} \")"
   ]
  },
  {
   "cell_type": "code",
   "execution_count": 10,
   "metadata": {},
   "outputs": [
    {
     "name": "stdout",
     "output_type": "stream",
     "text": [
      "Sum of first 21 odd numbers are: 441 \n"
     ]
    }
   ],
   "source": [
    "# easy alternative code for summing odd numbers using mathematical formula\n",
    "def sum_n_odd_numbers(n):\n",
    "    return n**2\n",
    "num = int(input(\"Enter the no. of odd numbers to sum: \"))\n",
    "print(f\"Sum of first {num} odd numbers are: {sum_n_odd_numbers(num)} \")"
   ]
  },
  {
   "cell_type": "code",
   "execution_count": 2,
   "metadata": {},
   "outputs": [
    {
     "name": "stdout",
     "output_type": "stream",
     "text": [
      "No. of perfect numbers upto 30: 2\n"
     ]
    }
   ],
   "source": [
    "''' \n",
    "10. Write a program to find how many perfect numbers exist up to a given limit.\n",
    "Example:\n",
    "Input: limit = 30\n",
    "Output: 1\n",
    "Explanation: There is only one perfect number (6) up to 30.\n",
    "'''\n",
    "def count_perfect_numbers(lim):\n",
    "    count = 0\n",
    "    for i in range(1, lim+1):\n",
    "        summ = 0\n",
    "        for j in range(1, int(i/2)+1):\n",
    "            if i % j == 0:\n",
    "                summ += j\n",
    "        if summ == i:\n",
    "            count += 1\n",
    "    return count\n",
    "\n",
    "limit = int(input(\"Enter the limit upto which no. of perfect number is to be counted: \"))\n",
    "print(f\"No. of perfect numbers upto {limit}: {count_perfect_numbers(limit)}\")"
   ]
  },
  {
   "cell_type": "code",
   "execution_count": 6,
   "metadata": {},
   "outputs": [
    {
     "name": "stdout",
     "output_type": "stream",
     "text": [
      "The highest prime factor of 676 is: 13\n"
     ]
    }
   ],
   "source": [
    "''' \n",
    "11. Write a program to find the largest prime factor of a given number.\n",
    "Example:\n",
    "Input: number = 28\n",
    "Output: 7\n",
    "Explanation: The prime factors of 28 are 2 and 7, with the largest being 7.\n",
    "'''\n",
    "def is_prime(a):\n",
    "    for i in range(2, int(a/2)+1):\n",
    "        if a % i == 0:\n",
    "            return False\n",
    "    return True\n",
    "\n",
    "\n",
    "\n",
    "def largest_prime_factor(num):\n",
    "    pr_factors = []\n",
    "    for i in range(1, num+1):\n",
    "        if num % i == 0:\n",
    "            if is_prime(i):\n",
    "                pr_factors.append(i)\n",
    "    return max(pr_factors)\n",
    "\n",
    "number = int(input(\"Enter a number to find a highest prime factor of: \"))\n",
    "print(f\"The highest prime factor of {number} is: {largest_prime_factor(number)}\")"
   ]
  },
  {
   "cell_type": "code",
   "execution_count": 4,
   "metadata": {},
   "outputs": [
    {
     "name": "stdout",
     "output_type": "stream",
     "text": [
      "1 1 2 3 \n",
      "5 8 13 21 \n",
      "34 55 89 144 \n",
      "233 377 610 987 \n"
     ]
    }
   ],
   "source": [
    "''' \n",
    "12. Write a program to generate a matrix where each element is a Fibonacci number.\n",
    "Example:\n",
    "Input: size = 3\n",
    "Output:\n",
    "\n",
    "1 1 2  \n",
    "3 5 8  \n",
    "13 21 34  \n",
    "'''\n",
    "def generate_fibonacci_series(size):\n",
    "    req_size = size*size\n",
    "    a = 1\n",
    "    b = 1\n",
    "    fib = []\n",
    "    for i in range (req_size):\n",
    "        fib.append(a)\n",
    "        c = a + b\n",
    "        a = b\n",
    "        b = c\n",
    "    return fib\n",
    "\n",
    "def gen_matrix_for_fibonacci_series(fibo, size):\n",
    "    k = 0\n",
    "    for i in range(size):\n",
    "        for j in range(size):\n",
    "            print(fibo[k], end=\" \")\n",
    "            k += 1\n",
    "        print()\n",
    "\n",
    "x = int(input(\"Enter the size of matrix: \"))\n",
    "\n",
    "fib_series = generate_fibonacci_series(x)\n",
    "gen_matrix_for_fibonacci_series(fib_series, x)"
   ]
  },
  {
   "cell_type": "code",
   "execution_count": 19,
   "metadata": {},
   "outputs": [
    {
     "name": "stdout",
     "output_type": "stream",
     "text": [
      "The Sum of first 5 prime numbers is: 28\n"
     ]
    }
   ],
   "source": [
    "''' \n",
    "12. Write a program to calculate the sum of the first N prime numbers.\n",
    "Example:\n",
    "Input: N = 4\n",
    "Output: 17\n",
    "Explanation: The sum of the first 4 prime numbers (2 + 3 + 5 + 7) is 17.\n",
    "'''\n",
    "def is_prime(num):\n",
    "    if num == 0 or num == 1:\n",
    "        return False\n",
    "    for i in range(2, int(num/2)+1):\n",
    "        if num % i == 0:\n",
    "            return False\n",
    "    return True\n",
    "\n",
    "def sum_primes(size):\n",
    "    count = 0\n",
    "    sum_p = 0\n",
    "    num = 2\n",
    "    while count != size:\n",
    "        if is_prime(num):\n",
    "            sum_p += num\n",
    "            count += 1\n",
    "        num += 1\n",
    "    return sum_p\n",
    "\n",
    "x = int(input(\"Enter the no. of prime numbers to sum: \"))\n",
    "print(f\"The Sum of first {x} prime numbers is: {sum_primes(x)}\")\n"
   ]
  },
  {
   "cell_type": "code",
   "execution_count": 4,
   "metadata": {},
   "outputs": [
    {
     "name": "stdout",
     "output_type": "stream",
     "text": [
      "The given string: ([}{]) is balanced\n"
     ]
    }
   ],
   "source": [
    "''' \n",
    "14. Write a program to check if a given string with brackets is balanced.\n",
    "Example:\n",
    "Input: string = \"{[()]}\"\n",
    "Output: True\n",
    "Explanation: The brackets are balanced.\n",
    "'''\n",
    "def is_balanced(s):\n",
    "    stack = []\n",
    "    for i in s:\n",
    "        if i in ['[', '{', '(']:\n",
    "            stack.append(i)\n",
    "        if i in [']', '}', ')']:\n",
    "            stack.pop()\n",
    "    if len(stack) == 0:\n",
    "        return True\n",
    "    return False\n",
    "\n",
    "string = input(\"Enter the string to check for balance of brackets: \")\n",
    "if is_balanced(string):\n",
    "    print(f\"The given string: {string} is balanced\")\n",
    "else:\n",
    "    print(f\"The given string: {string} is not balanced\")\n"
   ]
  },
  {
   "cell_type": "code",
   "execution_count": 6,
   "metadata": {},
   "outputs": [
    {
     "name": "stdout",
     "output_type": "stream",
     "text": [
      "The sum of numbers in text: the numbers are 34 and 37 is: 71\n"
     ]
    }
   ],
   "source": [
    "''' \n",
    "15. Write a program to extract and sum all numbers present in a given string.\n",
    "Example:\n",
    "Input: string = \"The numbers are 12 and 34\"\n",
    "Output: 46\n",
    "Explanation: The sum of numbers 12 and 34 is 46.\n",
    "'''\n",
    "import re\n",
    "string = input(\"Enter the string with numbers: \")\n",
    "numbers = re.findall(r'\\d+', string)\n",
    "sum_of_numbers = sum(map(int, numbers))\n",
    "print(f\"The sum of numbers in text: {string} is: {sum_of_numbers}\")"
   ]
  },
  {
   "cell_type": "code",
   "execution_count": 27,
   "metadata": {},
   "outputs": [
    {
     "name": "stdout",
     "output_type": "stream",
     "text": [
      "The longest sequence of consecutive numbers in [3, 8, 5, 7, 6] is of length: 4\n"
     ]
    }
   ],
   "source": [
    "''' \n",
    "16. Write a program to find the longest sequence of consecutive numbers in an array.\n",
    "Example:\n",
    "Input: array = [100, 4, 200, 1, 3, 2]\n",
    "Output: 4\n",
    "Explanation: The longest consecutive sequence is [1, 2, 3, 4].\n",
    "'''\n",
    "\n",
    "array = [int(i) for i in input(\"Enter the array of numbers: \").split()]\n",
    "\n",
    "array1 = array[:]\n",
    "array.sort()\n",
    "n = len(array)\n",
    "\n",
    "start = array[0]\n",
    "counts_list = [0]\n",
    "count = 0\n",
    "for i in range(n):\n",
    "    if start in array:\n",
    "        count += 1\n",
    "        counts_list.append(count)\n",
    "        start = start + 1\n",
    "    else:\n",
    "        start = array[i]\n",
    "        count = 1 # offset\n",
    "print(f\"The longest sequence of consecutive numbers in {array1} is of length: {max(counts_list)}\")"
   ]
  },
  {
   "cell_type": "code",
   "execution_count": 8,
   "metadata": {},
   "outputs": [
    {
     "name": "stdout",
     "output_type": "stream",
     "text": [
      "1 2 3 4\n",
      "12 13 14 5\n",
      "11 16 15 6\n",
      "10 9 8 7\n"
     ]
    }
   ],
   "source": [
    "''' \n",
    "17: Write a program to generate a matrix filled with numbers in a spiral pattern.\n",
    "Example:\n",
    "Input: size = 3\n",
    "Output:\n",
    "\n",
    "1 2 3  \n",
    "8 9 4  \n",
    "7 6 5  \n",
    "'''\n",
    "def generate_spiral_matrix(size):\n",
    "    # Initialize an empty matrix\n",
    "    matrix = [[0] * size for _ in range(size)]\n",
    "    \n",
    "    # Initialize the boundaries\n",
    "    left, right = 0, size - 1\n",
    "    top, bottom = 0, size - 1\n",
    "    num = 1  # Starting number to fill the matrix\n",
    "    \n",
    "    # Fill the matrix in a spiral order\n",
    "    while left <= right and top <= bottom:\n",
    "        # Fill the top row from left to right\n",
    "        for i in range(left, right + 1):\n",
    "            matrix[top][i] = num\n",
    "            num += 1\n",
    "        top += 1\n",
    "        \n",
    "        # Fill the right column from top to bottom\n",
    "        for i in range(top, bottom + 1):\n",
    "            matrix[i][right] = num\n",
    "            num += 1\n",
    "        right -= 1\n",
    "        \n",
    "        # Fill the bottom row from right to left\n",
    "        for i in range(right, left - 1, -1):\n",
    "            matrix[bottom][i] = num\n",
    "            num += 1\n",
    "        bottom -= 1\n",
    "        \n",
    "        # Fill the left column from bottom to top\n",
    "        for i in range(bottom, top - 1, -1):\n",
    "            matrix[i][left] = num\n",
    "            num += 1\n",
    "        left += 1\n",
    "    \n",
    "    return matrix\n",
    "\n",
    "# Test the function\n",
    "size = int(input(\"Enter the size of matrix: \"))\n",
    "spiral_matrix = generate_spiral_matrix(size)\n",
    "\n",
    "# Print the matrix in a formatted way\n",
    "for row in spiral_matrix:\n",
    "    print(\" \".join(map(str, row)))\n"
   ]
  },
  {
   "cell_type": "code",
   "execution_count": 13,
   "metadata": {},
   "outputs": [
    {
     "name": "stdout",
     "output_type": "stream",
     "text": [
      "The possible subsets of [1, 2, 5] are: [[], [1], [2], [5], [1, 2], [1, 5], [2, 5], [1, 2, 5]]\n"
     ]
    }
   ],
   "source": [
    "''' \n",
    "18. Write a program to generate all possible subsets of a given set of numbers.\n",
    "Example:\n",
    "Input: set = [1, 2]\n",
    "Output: [[], [1], [2], [1, 2]]\n",
    "Explanation: The subsets of [1, 2] are the empty set, [1], [2], and [1, 2]\n",
    "'''\n",
    "from itertools import combinations\n",
    "\n",
    "def gen_subsets(arr):\n",
    "    subsets = []\n",
    "    for i in range(len(arr)+1):\n",
    "        comb = combinations(arr, i)\n",
    "        for c in comb:\n",
    "            subsets.append(list(c))\n",
    "    print(f\"The possible subsets of {arr} are: {subsets}\")\n",
    "\n",
    "nums = [int(_) for   _ in input(\"Enter the set to find subsets  of:\").split()]\n",
    "gen_subsets(nums)\n"
   ]
  },
  {
   "cell_type": "code",
   "execution_count": 16,
   "metadata": {},
   "outputs": [
    {
     "name": "stdout",
     "output_type": "stream",
     "text": [
      " The perfect squares between 1 and 50 are: [1, 4, 9, 16, 25, 36, 49]\n"
     ]
    }
   ],
   "source": [
    "''' \n",
    "19. Write a program to check which numbers in a given range are perfect squares.\n",
    "Example:\n",
    "Input: start = 1, end = 10\n",
    "Output: [1, 4, 9]\n",
    "Explanation: Perfect squares between 1 and 10 are 1, 4, and 9.\n",
    "'''\n",
    "import math\n",
    "def perfect_squared(start, end):\n",
    "    perfectos = []\n",
    "    for i in range(start, end+1):\n",
    "        if math.sqrt(i) == int(math.sqrt(i)):\n",
    "            perfectos.append(i)\n",
    "    return perfectos\n",
    "\n",
    "starts_at = int(input(\"Enter the starting number: \"))\n",
    "ends_at = int(input(\"Enter the ending number: \"))\n",
    "print(f\" The perfect squares between {starts_at} and {ends_at} are: {perfect_squared(starts_at, ends_at)}\")"
   ]
  },
  {
   "cell_type": "code",
   "execution_count": 1,
   "metadata": {},
   "outputs": [
    {
     "name": "stdout",
     "output_type": "stream",
     "text": [
      "The sum of diagonal elements of [[1, 2, 3], [4, 5, 6], [7, 8, 9]] is: 15\n"
     ]
    }
   ],
   "source": [
    "'''\n",
    "20. Write a program to calculate the sum of the diagonal elements in a square matrix.\n",
    "Example:\n",
    "Input: matrix = [[1, 2, 3], [4, 5, 6], [7, 8, 9]]\n",
    "Output: 15\n",
    "Explanation: The sum of the diagonal elements (1 + 5 + 9) is 15.\n",
    "'''\n",
    "matrix = [[1, 2, 3], [4, 5, 6], [7, 8, 9]]\n",
    "\n",
    "def calculate_diagonal_sum(matrix):\n",
    "    sum_d = 0\n",
    "    for i in range(len(matrix)):\n",
    "        sum_d += matrix[i][i]\n",
    "    return sum_d\n",
    "\n",
    "print(f\"The sum of diagonal elements of {matrix} is: {calculate_diagonal_sum(matrix)}\")\n"
   ]
  },
  {
   "cell_type": "code",
   "execution_count": 5,
   "metadata": {},
   "outputs": [
    {
     "name": "stdout",
     "output_type": "stream",
     "text": [
      "The second largest element of the [12, 13, 1, 10, 34, 1] is: 13\n"
     ]
    }
   ],
   "source": [
    "'''\n",
    "21. Write a program to find the second smallest number in an array.\n",
    "Example:\n",
    "Input: array = [12, 13, 1, 10, 34, 1]\n",
    "Output: 10\n",
    "Explanation: The second smallest number in the array is 10.\n",
    "'''\n",
    "array = [int(i) for i in input(\"Enter the elements of the array\").split()]\n",
    "y = array[:]\n",
    "y.sort(reverse= True)\n",
    "print(f\"The second largest element of the {array} is: {y[1]}\")"
   ]
  },
  {
   "cell_type": "code",
   "execution_count": null,
   "metadata": {},
   "outputs": [
    {
     "name": "stdout",
     "output_type": "stream",
     "text": [
      "\n",
      "1 \n",
      "1 1 \n",
      "1 2 1 \n",
      "1 3 3 1 \n",
      "1 4 6 4 1 \n"
     ]
    }
   ],
   "source": [
    "''' \n",
    "22. Write a program to generate Pascal’s Triangle up to N rows.\n",
    "Example:\n",
    "Input: N = 3\n",
    "Output:\n",
    "\n",
    "1  \n",
    "1 1  \n",
    "1 2 1  \n",
    "\n",
    "'''\n",
    "def pascal(rows):\n",
    "    for n in range(rows+1):\n",
    "        ncr = 1\n",
    "        for r in range(1, n+1):\n",
    "            print(ncr, \" \", sep='', end='')\n",
    "            ncr = ncr * (n - r) // r\n",
    "        print()\n",
    "\n",
    "x = int(input(\"Enter no. of rows: \"))\n",
    "pascal(x)"
   ]
  },
  {
   "cell_type": "code",
   "execution_count": 2,
   "metadata": {},
   "outputs": [
    {
     "name": "stdout",
     "output_type": "stream",
     "text": [
      " The product of 45 and 89 is: 4005 and Sum of digits of 4005 is: 9\n"
     ]
    }
   ],
   "source": [
    "''' \n",
    "23. Write a program to find the sum of the digits of the product of two given numbers.\n",
    "Example:\n",
    "Input: number1 = 12, number2 = 34\n",
    "Output: 9\n",
    "Explanation: The product of 12 and 34 is 408, and the sum of its digits is 4 + 0 + 8 = 12.\n",
    "'''\n",
    "def multiply(num1, num2):\n",
    "    return num1 * num2\n",
    "\n",
    "number1 = int(input(\"Enter the 1st number: \"))\n",
    "number2 = int(input(\"Enter the 2nd number: \"))\n",
    "product = multiply(number1, number2)\n",
    "sum_of_digits = sum(int(digit) for digit in str(product))\n",
    "print(f\" The product of {number1} and {number2} is: {product} and Sum of digits of {product} is: {sum_of_digits}\")\n"
   ]
  },
  {
   "cell_type": "code",
   "execution_count": 7,
   "metadata": {},
   "outputs": [
    {
     "name": "stdout",
     "output_type": "stream",
     "text": [
      "Palindromes in between 1 and 100 are: [1, 2, 3, 4, 5, 6, 7, 8, 9, 11, 22, 33, 44, 55, 66, 77, 88, 99]\n"
     ]
    }
   ],
   "source": [
    "''' \n",
    "24. Write a program to check for palindromic numbers within a given range.\n",
    "Example:\n",
    "Input: start = 1, end = 100\n",
    "Output: [1, 2, 3, 4, 5, 6, 7, 8, 9, 11, 22, 33, 44, 55, 66, 77, 88, 99]\n",
    "Explanation: Palindromic numbers between 1 and 100 are the numbers listed.\n",
    "'''\n",
    "\n",
    "down = int(input(\"Enter the lower range: \"))\n",
    "up = int(input(\"Enter the upper range: \"))\n",
    "\n",
    "def palindromes(down, up):\n",
    "    palindromes = []\n",
    "    for i in range(down, up+1):\n",
    "        if str(i) == str(i)[::-1]:\n",
    "            palindromes.append(i)\n",
    "    return palindromes\n",
    "\n",
    "print(f\"Palindromes in between {down} and {up} are: {palindromes(down, up)}\")\n",
    "\n"
   ]
  },
  {
   "cell_type": "code",
   "execution_count": null,
   "metadata": {},
   "outputs": [
    {
     "name": "stdout",
     "output_type": "stream",
     "text": [
      "[0 1 0 1 0]\n",
      "[1 0 1 0 1]\n",
      "[0 1 0 1 0]\n",
      "[1 0 1 0 1]\n",
      "[0 1 0 1 0]\n"
     ]
    }
   ],
   "source": [
    "'''\n",
    "25. Write a program to generate a matrix where the elements alternate between 0 and 1.\n",
    "Example:\n",
    "Input: size = 3\n",
    "Output:\n",
    "\n",
    "0 1 0  \n",
    "1 0 1  \n",
    "0 1 0  \n",
    "\n",
    "'''\n",
    "import numpy as np\n",
    "size = int(input(\"Enter the size of matrix: \"))\n",
    "\n",
    "def gen_alternate_arr(size):\n",
    "    alternate_array = []\n",
    "    for i in range(size*size):\n",
    "        if i % 2 == 0:\n",
    "            alternate_array.append(0)\n",
    "        else:\n",
    "            alternate_array.append(1)\n",
    "    return alternate_array\n",
    "array = np.array(gen_alternate_arr(size))\n",
    "\n",
    "def gen_matrix(array, size):\n",
    "    matrix = array.reshape(size, size)\n",
    "    for row in matrix:\n",
    "        print(row)\n",
    "gen_matrix(array, size)"
   ]
  },
  {
   "cell_type": "code",
   "execution_count": 5,
   "metadata": {},
   "outputs": [
    {
     "name": "stdout",
     "output_type": "stream",
     "text": [
      "The word: boom appears 2 times in \"shaka laka boom boom\"\n"
     ]
    }
   ],
   "source": [
    "''' \n",
    "26. Write a program to count how many times a specific word appears in a given string.\n",
    "Example:\n",
    "Input: string = \"hello world hello\"\n",
    "Output: 2\n",
    "Explanation: The word \"hello\" appears 2 times in the string.\n",
    "'''\n",
    "string = input(\"Enter the string: \")\n",
    "word = input(\"Enter the word to count repetition for, in the string: \")\n",
    "\n",
    "def count_word(string, word):\n",
    "    count = 0\n",
    "    for i in string.split():\n",
    "        if i == word:\n",
    "            count += 1\n",
    "    return count\n",
    "\n",
    "print(f\"The word: {word} appears {count_word(string, word)} times in \\\"{string}\\\"\")\n"
   ]
  },
  {
   "cell_type": "code",
   "execution_count": 14,
   "metadata": {},
   "outputs": [
    {
     "name": "stdout",
     "output_type": "stream",
     "text": [
      "largest sum is: 11 of continguous Subarray: [7, -1, 2, 3]\n"
     ]
    }
   ],
   "source": [
    "''' \n",
    "27. Write a program to find the largest sum of any contiguous subarray.\n",
    "Example:\n",
    "Input: array = [-2, 1, -3, 4, -1, 2, 1, -5, 4]\n",
    "Output: 6\n",
    "Explanation: The largest sum is 6, from the subarray [4, -1, 2, 1]\n",
    "'''\n",
    "array = [int(i) for i in input(\"Enter the array elements: \").split()]\n",
    "# array = [2, 3, -8, 7, -1, 2, 3]\n",
    "array_length = len(array)\n",
    "subarray = []\n",
    "max_sum = array[0]\n",
    "for i in range(array_length):\n",
    "    for j in range(i, array_length):\n",
    "        subarray_sum = sum(array[i:j+1])\n",
    "        if max_sum < subarray_sum:\n",
    "            max_sum = int(subarray_sum)\n",
    "            subarray.append(array[i:j+1])\n",
    "\n",
    "print(f\"largest sum is: {max_sum} of continguous Subarray: {subarray[-1]}\")"
   ]
  },
  {
   "cell_type": "code",
   "execution_count": 16,
   "metadata": {},
   "outputs": [
    {
     "name": "stdout",
     "output_type": "stream",
     "text": [
      "1\n",
      "12\n",
      "123\n",
      "1234\n"
     ]
    }
   ],
   "source": [
    "''' \n",
    "28. Write a program to create a right-angle triangle pattern with numbers.\n",
    "Example:\n",
    "Input: height = 4\n",
    "Output:\n",
    "\n",
    "1  \n",
    "12  \n",
    "123  \n",
    "1234  \n",
    "\n",
    "'''\n",
    "height = int(input(\"Enter the height for pattern: \"))\n",
    "for i in range(1, height + 1):\n",
    "    for j in range(1, i+1):\n",
    "        print(j, end='')\n",
    "    print()"
   ]
  },
  {
   "cell_type": "code",
   "execution_count": 3,
   "metadata": {},
   "outputs": [
    {
     "name": "stdout",
     "output_type": "stream",
     "text": [
      "The divisors of product of 6 and 10 are: [1, 2, 3, 4, 5, 6, 10, 12, 15, 20, 30]\n"
     ]
    }
   ],
   "source": [
    "''' \n",
    "29. Write a program to find all divisors of the product of two given numbers.\n",
    "Example:\n",
    "Input: number1 = 6, number2 = 10\n",
    "Output: [1, 2, 3, 5, 6, 10, 15, 30]\n",
    "Explanation: The product of 6 and 10 is 60, and its divisors are listed.\n",
    "'''\n",
    "def find_divisors(num1, num2):\n",
    "    product = num1 * num2\n",
    "    divisors = []\n",
    "    for num in range(1, int(product/2)+1):\n",
    "        if product % num == 0:\n",
    "            divisors.append(num)\n",
    "    return divisors\n",
    "num1 = int(input(\"Enter 1st number: \"))\n",
    "num2 = int(input(\"Enter 2nd number: \"))\n",
    "print(f\"The divisors of product of {num1} and {num2} are: {find_divisors(num1, num2)}\")"
   ]
  },
  {
   "cell_type": "code",
   "execution_count": null,
   "metadata": {},
   "outputs": [
    {
     "name": "stdout",
     "output_type": "stream",
     "text": [
      "The longest sequence of 1s in [1, 1, 1, 0, 1, 1, 1, 1, 1, 1, 1, 0, 1, 1] is: 7\n"
     ]
    }
   ],
   "source": [
    "''' \n",
    "30. Write a program to find the longest sequence of consecutive 1s in a binary array.\n",
    "Example:\n",
    "Input: array = [1, 1, 0, 1, 1, 1]\n",
    "Output: 3\n",
    "Explanation: The longest sequence of 1s is [1, 1, 1] with length 3.\n",
    "'''\n",
    "def longest_sequence_of_ones(arr):\n",
    "    count = 0\n",
    "    counts = []\n",
    "    for i in arr:\n",
    "        if i == 0:\n",
    "            counts.append(count)\n",
    "            count = 0\n",
    "        if i == 1:\n",
    "            count += 1\n",
    "    counts.append(count)\n",
    "    return max(counts)\n",
    "\n",
    "array = [int(i) for i in input(\"Enter the binary array: \").split()]\n",
    "print(f\"The longest sequence of 1s in {array} is of length: {longest_sequence_of_ones(array)}\")\n"
   ]
  },
  {
   "cell_type": "code",
   "execution_count": 14,
   "metadata": {},
   "outputs": [
    {
     "name": "stdout",
     "output_type": "stream",
     "text": [
      " Sum of first 7 fibonacci numbers, [1, 1, 2, 3, 5, 8, 13]: 33\n"
     ]
    }
   ],
   "source": [
    "''' \n",
    "31. Write a program to calculate the sum of the first N Fibonacci numbers.\n",
    "Example:\n",
    "Input: N = 5\n",
    "Output: 12\n",
    "Explanation: The first 5 Fibonacci numbers are 1, 1, 2, 3, 5, and their sum is 12.\n",
    "'''\n",
    "def sum_n_fib_seq(size):\n",
    "    if size <= 1:\n",
    "        return size\n",
    "    else:\n",
    "        return sum_n_fib_seq(size-1) + sum_n_fib_seq(size-2)\n",
    "    \n",
    "size = int(input(\"Enter the no. of elements in fibonacci sequence to sum: \"))\n",
    "seq = []\n",
    "for i in range(1, size+1):\n",
    "    seq.append(sum_n_fib_seq(i))\n",
    "print(f\" Sum of first {size} fibonacci numbers, {seq}: {sum(seq)}\")"
   ]
  }
 ],
 "metadata": {
  "kernelspec": {
   "display_name": "Python 3",
   "language": "python",
   "name": "python3"
  },
  "language_info": {
   "codemirror_mode": {
    "name": "ipython",
    "version": 3
   },
   "file_extension": ".py",
   "mimetype": "text/x-python",
   "name": "python",
   "nbconvert_exporter": "python",
   "pygments_lexer": "ipython3",
   "version": "3.12.6"
  }
 },
 "nbformat": 4,
 "nbformat_minor": 2
}
