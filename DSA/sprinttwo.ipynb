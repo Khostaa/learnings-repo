{
 "cells": [
  {
   "cell_type": "code",
   "execution_count": 3,
   "metadata": {},
   "outputs": [
    {
     "name": "stdout",
     "output_type": "stream",
     "text": [
      "Sum of digits of 123456: 21\n"
     ]
    }
   ],
   "source": [
    "''' \n",
    "1. Write a program to repeatedly sum the digits of a number until the result is zero.\n",
    "Example:\n",
    "Input: number = 123\n",
    "Output: 6\n",
    "Explanation: Sum of digits is 1 + 2 + 3 = 6; sum of digits of 6 is 6 (which is a single digit).\n",
    "'''\n",
    "x = int(input(\"Enter the number: \"))\n",
    "temp = x\n",
    "sum = 0\n",
    "while x!=0:\n",
    "    sum += x % 10\n",
    "    x = x // 10\n",
    "print(f\"Sum of digits of {temp}: {sum}\")\n"
   ]
  }
 ],
 "metadata": {
  "kernelspec": {
   "display_name": "Python 3",
   "language": "python",
   "name": "python3"
  },
  "language_info": {
   "codemirror_mode": {
    "name": "ipython",
    "version": 3
   },
   "file_extension": ".py",
   "mimetype": "text/x-python",
   "name": "python",
   "nbconvert_exporter": "python",
   "pygments_lexer": "ipython3",
   "version": "3.12.6"
  }
 },
 "nbformat": 4,
 "nbformat_minor": 2
}
